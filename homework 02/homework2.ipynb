{
 "cells": [
  {
   "cell_type": "markdown",
   "metadata": {},
   "source": [
    "# Homework 2 - Decision tree"
   ]
  },
  {
   "cell_type": "markdown",
   "metadata": {},
   "source": [
    "---"
   ]
  },
  {
   "cell_type": "markdown",
   "metadata": {},
   "source": [
    "## Context\n",
    "\n",
    "This file is the homework practice from my university course \"Fundamentals of\n",
    "data analytics\".\n",
    "Below are the cover of my analysis."
   ]
  },
  {
   "cell_type": "markdown",
   "metadata": {},
   "source": [
    "---"
   ]
  },
  {
   "cell_type": "markdown",
   "metadata": {},
   "source": [
    "## Homework requirement\n",
    "\n",
    "* Design features/attributes for your problem and a set of rules to classify\n",
    "  data\n",
    "* Use the data generated in step 1 to build a decision tree\n",
    "* Compare the rules in the decision tree from step 2 and the\n",
    "* rules you used to generate your ‘right’ data\n",
    "* Discuss anything you can"
   ]
  },
  {
   "cell_type": "markdown",
   "metadata": {},
   "source": [
    "---"
   ]
  },
  {
   "cell_type": "markdown",
   "metadata": {},
   "source": [
    "## Design problem\n",
    "\n",
    "Imagine the following situation:\n",
    "\n",
    "A factory is manufacturing the special type of toy block.\n",
    "\n",
    "The block must satisfy the following specification:\n",
    "\n",
    "* dimensions(height, width and depth): 0.9~1.1 inches for any dimension\n",
    "* weight: 0.5~0.8 lbs for any dimension\n",
    "* color: the color code from 1 to 10\n",
    "\n",
    "In order to have the good quality product, all the block must pass the quality\n",
    "control. Anyone that dissatisfy the quality control will be rejected.\n",
    "\n",
    "The rule of the quality product is listed below:\n",
    "\n",
    "* The product dimension is 1\"x1\"x1\" inches with tolerance of 0.08 inches\n",
    "* The weight is between 0.55~0.75 lbs\n",
    "* It can be any color\n",
    "* For color 3, it will always pass the quality control even it violate the\n",
    "  rule above"
   ]
  },
  {
   "cell_type": "markdown",
   "metadata": {},
   "source": [
    "![right answer flow](images/right_answer_flow.png)"
   ]
  },
  {
   "cell_type": "markdown",
   "metadata": {},
   "source": [
    "---"
   ]
  },
  {
   "cell_type": "markdown",
   "metadata": {},
   "source": [
    "## Design database\n",
    "We have to design the database ourselves. Let's look at the feature we have:\n",
    "* height\n",
    "* width\n",
    "* depth\n",
    "* weight\n",
    "* color\n",
    "Now let design the database"
   ]
  },
  {
   "cell_type": "markdown",
   "metadata": {},
   "source": [
    "First, define the variable to decide whether it needs to create the new\n",
    "database."
   ]
  },
  {
   "cell_type": "code",
   "execution_count": 1,
   "metadata": {},
   "outputs": [],
   "source": [
    "write_database = False"
   ]
  },
  {
   "cell_type": "markdown",
   "metadata": {},
   "source": [
    "Define the basic class and module to perform"
   ]
  },
  {
   "cell_type": "code",
   "execution_count": 2,
   "metadata": {},
   "outputs": [],
   "source": [
    "class ToyBlock:\n",
    "    def __init__(self, height, width, depth, weight, color):\n",
    "        self.height = height\n",
    "        self.width = width\n",
    "        self.depth = depth\n",
    "        self.weight = weight\n",
    "        self.color = color\n",
    "        self.quality = self.quality_control()\n",
    "\n",
    "    def quality_control(self):\n",
    "        dimension_satisfy = [0.92, 1.08]\n",
    "        weight_satisfy = [0.55, 0.75]\n",
    "        color_satisfy = [1, 10]\n",
    "\n",
    "        if self.color == 3:\n",
    "            return 1\n",
    "        elif self.is_in_range(self.height, dimension_satisfy) and \\\n",
    "             self.is_in_range(self.width, dimension_satisfy) and \\\n",
    "             self.is_in_range(self.depth, dimension_satisfy) and \\\n",
    "             self.is_in_range(self.weight, weight_satisfy) and \\\n",
    "             self.is_in_range(self.color, color_satisfy):\n",
    "            return 1\n",
    "        else:\n",
    "            return 0\n",
    "\n",
    "    def is_in_range(self, x, r):\n",
    "        return (r[0] <= x <= r[1])\n",
    "\n",
    "    def datalist(self):\n",
    "        return [self.height, self.width, self.depth,\n",
    "                self.weight, self.color, self.quality]"
   ]
  },
  {
   "cell_type": "markdown",
   "metadata": {},
   "source": [
    "Creating database"
   ]
  },
  {
   "cell_type": "code",
   "execution_count": 3,
   "metadata": {},
   "outputs": [],
   "source": [
    "def creating_database(file_name='database.csv', row=10000):\n",
    "    def random_attribute(x=['int', [1, 10]]):\n",
    "        import random\n",
    "\n",
    "        data_type = x[0]\n",
    "        data_range = x[1]\n",
    "\n",
    "        if data_type == 'int':\n",
    "            return random.randint(data_range[0], data_range[1])\n",
    "        elif data_type=='float':\n",
    "            return round(random.uniform(data_range[0], data_range[1]), 5)\n",
    "        return 0\n",
    "\n",
    "    import csv\n",
    "\n",
    "    dimension_range = ['float', [0.9, 1.1]]\n",
    "    weight_range = ['float', [0.5, 0.8]]\n",
    "    color_range = ['int', [1, 10]]\n",
    "\n",
    "    with open(file_name, 'w', newline='') as database:\n",
    "        csv_writer = csv.writer(database)\n",
    "\n",
    "        csv_writer.writerow(['height', 'width', 'depth',\n",
    "                             'weight', 'color', 'quality'])\n",
    "\n",
    "        for _ in range(row):\n",
    "            toy_block = ToyBlock(random_attribute(dimension_range),\n",
    "                                 random_attribute(dimension_range),\n",
    "                                 random_attribute(dimension_range),\n",
    "                                 random_attribute(weight_range),\n",
    "                                 random_attribute(color_range))\n",
    "            csv_writer.writerow(toy_block.datalist())\n",
    "\n",
    "if write_database:\n",
    "    creating_database('input/database.csv', 100000)"
   ]
  },
  {
   "cell_type": "markdown",
   "metadata": {},
   "source": [
    "---"
   ]
  },
  {
   "cell_type": "code",
   "execution_count": null,
   "metadata": {},
   "outputs": [],
   "source": []
  }
 ],
 "metadata": {
  "file_extension": ".py",
  "kernelspec": {
   "display_name": "Python 3",
   "language": "python",
   "name": "python3"
  },
  "language_info": {
   "codemirror_mode": {
    "name": "ipython",
    "version": 3
   },
   "file_extension": ".py",
   "mimetype": "text/x-python",
   "name": "python",
   "nbconvert_exporter": "python",
   "pygments_lexer": "ipython3",
   "version": "3.7.2"
  },
  "mimetype": "text/x-python",
  "name": "python",
  "npconvert_exporter": "python",
  "pygments_lexer": "ipython3",
  "version": 3
 },
 "nbformat": 4,
 "nbformat_minor": 2
}
