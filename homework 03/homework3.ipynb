{
 "cells": [
  {
   "cell_type": "markdown",
   "metadata": {},
   "source": [
    "# Homework 3 - Logistic Regression, SVM, Neural Network"
   ]
  },
  {
   "cell_type": "markdown",
   "metadata": {},
   "source": [
    "---"
   ]
  },
  {
   "cell_type": "markdown",
   "metadata": {},
   "source": [
    "## Context"
   ]
  },
  {
   "cell_type": "markdown",
   "metadata": {},
   "source": [
    "This file is the homework practice from my university course \"Fundamentals of\n",
    "data analytics\".\n",
    "Below are the cover of my  prediction."
   ]
  },
  {
   "cell_type": "markdown",
   "metadata": {},
   "source": [
    "---"
   ]
  },
  {
   "cell_type": "markdown",
   "metadata": {},
   "source": [
    "## Homework requirement"
   ]
  },
  {
   "cell_type": "markdown",
   "metadata": {},
   "source": [
    "Please implement 3 classifiers to predict the stock movement\n",
    "* Logistic Regression\n",
    "* SVM\n",
    "* Neural Network"
   ]
  },
  {
   "cell_type": "markdown",
   "metadata": {},
   "source": [
    "---"
   ]
  },
  {
   "cell_type": "markdown",
   "metadata": {},
   "source": [
    "## Source"
   ]
  },
  {
   "cell_type": "markdown",
   "metadata": {},
   "source": [
    "[Dataset](https://www.sharecast.com/index/SP_500/prices/download) - Sp500 -\n",
    "ShareCast\n",
    "\n",
    "* Training set: 02/Jan/2009 ~ 29/Dec/2017\n",
    "* Testing set: 02/Jan/2018 ~ 31/Dec/2018"
   ]
  },
  {
   "cell_type": "markdown",
   "metadata": {},
   "source": [
    "---"
   ]
  },
  {
   "cell_type": "markdown",
   "metadata": {},
   "source": [
    "## Import Dataset"
   ]
  },
  {
   "cell_type": "markdown",
   "metadata": {},
   "source": [
    "Import dataset"
   ]
  },
  {
   "cell_type": "code",
   "execution_count": 1,
   "metadata": {},
   "outputs": [
    {
     "data": {
      "text/html": [
       "<div>\n",
       "<style scoped>\n",
       "    .dataframe tbody tr th:only-of-type {\n",
       "        vertical-align: middle;\n",
       "    }\n",
       "\n",
       "    .dataframe tbody tr th {\n",
       "        vertical-align: top;\n",
       "    }\n",
       "\n",
       "    .dataframe thead th {\n",
       "        text-align: right;\n",
       "    }\n",
       "</style>\n",
       "<table border=\"1\" class=\"dataframe\">\n",
       "  <thead>\n",
       "    <tr style=\"text-align: right;\">\n",
       "      <th></th>\n",
       "      <th>Date</th>\n",
       "      <th>Open Price</th>\n",
       "      <th>Close Price</th>\n",
       "      <th>High Price</th>\n",
       "      <th>Low Price</th>\n",
       "      <th>Volume</th>\n",
       "    </tr>\n",
       "  </thead>\n",
       "  <tbody>\n",
       "    <tr>\n",
       "      <th>0</th>\n",
       "      <td>02-Jan-2009</td>\n",
       "      <td>902.99</td>\n",
       "      <td>931.80</td>\n",
       "      <td>934.73</td>\n",
       "      <td>899.35</td>\n",
       "      <td>4048270080</td>\n",
       "    </tr>\n",
       "    <tr>\n",
       "      <th>1</th>\n",
       "      <td>05-Jan-2009</td>\n",
       "      <td>929.17</td>\n",
       "      <td>927.45</td>\n",
       "      <td>936.63</td>\n",
       "      <td>919.53</td>\n",
       "      <td>5413910016</td>\n",
       "    </tr>\n",
       "    <tr>\n",
       "      <th>2</th>\n",
       "      <td>06-Jan-2009</td>\n",
       "      <td>931.17</td>\n",
       "      <td>934.70</td>\n",
       "      <td>943.85</td>\n",
       "      <td>927.28</td>\n",
       "      <td>5392620032</td>\n",
       "    </tr>\n",
       "    <tr>\n",
       "      <th>3</th>\n",
       "      <td>07-Jan-2009</td>\n",
       "      <td>927.45</td>\n",
       "      <td>906.65</td>\n",
       "      <td>927.45</td>\n",
       "      <td>902.37</td>\n",
       "      <td>4704940032</td>\n",
       "    </tr>\n",
       "    <tr>\n",
       "      <th>4</th>\n",
       "      <td>08-Jan-2009</td>\n",
       "      <td>905.73</td>\n",
       "      <td>909.73</td>\n",
       "      <td>910.00</td>\n",
       "      <td>896.81</td>\n",
       "      <td>4991549952</td>\n",
       "    </tr>\n",
       "  </tbody>\n",
       "</table>\n",
       "</div>"
      ],
      "text/plain": [
       "          Date  Open Price  Close Price  High Price  Low Price      Volume\n",
       "0  02-Jan-2009      902.99       931.80      934.73     899.35  4048270080\n",
       "1  05-Jan-2009      929.17       927.45      936.63     919.53  5413910016\n",
       "2  06-Jan-2009      931.17       934.70      943.85     927.28  5392620032\n",
       "3  07-Jan-2009      927.45       906.65      927.45     902.37  4704940032\n",
       "4  08-Jan-2009      905.73       909.73      910.00     896.81  4991549952"
      ]
     },
     "execution_count": 1,
     "metadata": {},
     "output_type": "execute_result"
    }
   ],
   "source": [
    "import numpy as np\n",
    "import pandas as pd\n",
    "\n",
    "dataset = pd.read_csv('input/database.csv')\n",
    "dataset.head()"
   ]
  },
  {
   "cell_type": "markdown",
   "metadata": {},
   "source": [
    "---"
   ]
  },
  {
   "cell_type": "markdown",
   "metadata": {},
   "source": [
    "## Preparation"
   ]
  },
  {
   "cell_type": "markdown",
   "metadata": {},
   "source": [
    "### Define variables"
   ]
  },
  {
   "cell_type": "markdown",
   "metadata": {},
   "source": [
    "Add independent variables to the dataset to help the prediction\n",
    "\n",
    "* 10-days Average: the moving average of close price in 10 days\n",
    "* 10-days Correlation: the correlation of the close price in 10 days\n",
    "* Difference of Open & Close: the difference of the open price in today and\n",
    "  the close price in previous day\n",
    "* Difference of Open & Open: the difference of the open price in today and the\n",
    "  open price in previous day"
   ]
  },
  {
   "cell_type": "code",
   "execution_count": 2,
   "metadata": {},
   "outputs": [],
   "source": [
    "dataset['10-days Average'] = dataset['Close Price'].rolling(window=10).mean()\n",
    "dataset['10-days Correlation'] = \\\n",
    "    dataset['Close Price'].rolling(window=10). corr(dataset['10-days Average'])\n",
    "dataset['Difference of Open & Close'] = \\\n",
    "    dataset['Open Price'] - dataset['Close Price'].shift(1)\n",
    "dataset['Difference of Open & Open'] = \\\n",
    "    dataset['Open Price'] - dataset['Open Price'].shift(1)"
   ]
  },
  {
   "cell_type": "markdown",
   "metadata": {},
   "source": [
    "### Define the result"
   ]
  },
  {
   "cell_type": "markdown",
   "metadata": {},
   "source": [
    "If the close price is higher than the previous day, marked as 1. Otherwise, 0."
   ]
  },
  {
   "cell_type": "code",
   "execution_count": 3,
   "metadata": {},
   "outputs": [],
   "source": [
    "dataset['Gain or Loss'] = \\\n",
    "    np.where(dataset['Close Price'] - dataset['Close Price'].shift(1) > 0, 1, 0)"
   ]
  },
  {
   "cell_type": "markdown",
   "metadata": {},
   "source": [
    "### Fill the NaN value"
   ]
  },
  {
   "cell_type": "markdown",
   "metadata": {},
   "source": [
    "Below we check whether the NaN value exists in the dataset. If it exists, we\n",
    "fill it with 0."
   ]
  },
  {
   "cell_type": "code",
   "execution_count": 4,
   "metadata": {},
   "outputs": [
    {
     "data": {
      "text/plain": [
       "Date                           0\n",
       "Open Price                     0\n",
       "Close Price                    0\n",
       "High Price                     0\n",
       "Low Price                      0\n",
       "Volume                         0\n",
       "10-days Average                9\n",
       "10-days Correlation           18\n",
       "Difference of Open & Close     1\n",
       "Difference of Open & Open      1\n",
       "Gain or Loss                   0\n",
       "dtype: int64"
      ]
     },
     "execution_count": 4,
     "metadata": {},
     "output_type": "execute_result"
    }
   ],
   "source": [
    "dataset.isnull().sum()"
   ]
  },
  {
   "cell_type": "code",
   "execution_count": 5,
   "metadata": {},
   "outputs": [
    {
     "data": {
      "text/plain": [
       "Date                          0\n",
       "Open Price                    0\n",
       "Close Price                   0\n",
       "High Price                    0\n",
       "Low Price                     0\n",
       "Volume                        0\n",
       "10-days Average               0\n",
       "10-days Correlation           0\n",
       "Difference of Open & Close    0\n",
       "Difference of Open & Open     0\n",
       "Gain or Loss                  0\n",
       "dtype: int64"
      ]
     },
     "execution_count": 5,
     "metadata": {},
     "output_type": "execute_result"
    }
   ],
   "source": [
    "dataset.fillna(0, inplace=True)\n",
    "dataset.isnull().sum()"
   ]
  },
  {
   "cell_type": "markdown",
   "metadata": {},
   "source": [
    "### Split the training set and testing set by date"
   ]
  },
  {
   "cell_type": "markdown",
   "metadata": {},
   "source": [
    "By the requirement of the homework, we split up the data by date"
   ]
  },
  {
   "cell_type": "code",
   "execution_count": 6,
   "metadata": {},
   "outputs": [
    {
     "name": "stdout",
     "output_type": "stream",
     "text": [
      "Training dataset: ('02-Jan-2009', '29-Dec-2017')\n",
      "Testing dataset: ('02-Jan-2018', '31-Dec-2018')\n"
     ]
    }
   ],
   "source": [
    "def date_str(x):\n",
    "    import datetime\n",
    "    dd, mm, yy = x\n",
    "    date = datetime.datetime(yy, mm, dd)\n",
    "    return date.strftime('%d-%b-%Y')\n",
    "\n",
    "date = \\\n",
    "    [(dataset.at[0, 'Date'], date_str([29, 12, 2017])),\n",
    "     (date_str([2, 1, 2018]), dataset.at[dataset.last_valid_index(), 'Date'])]\n",
    "print('Training dataset: {}'.format(date[0]))\n",
    "print('Testing dataset: {}'.format(date[1]))"
   ]
  },
  {
   "cell_type": "code",
   "execution_count": 7,
   "metadata": {},
   "outputs": [],
   "source": [
    "training_set = dataset.iloc[\n",
    "    dataset[dataset['Date'] == date[0][0]].index[0]:\n",
    "    dataset[dataset['Date'] == date[0][1]].index[0] + 1, :]\n",
    "testing_set = dataset.iloc[\n",
    "    dataset[dataset['Date'] == date[1][0]].index[0]:\n",
    "    dataset[dataset['Date'] == date[1][1]].index[0] + 1, :]"
   ]
  },
  {
   "cell_type": "markdown",
   "metadata": {},
   "source": [
    "### Set Index"
   ]
  },
  {
   "cell_type": "markdown",
   "metadata": {},
   "source": [
    "Let us set the index by Date"
   ]
  },
  {
   "cell_type": "code",
   "execution_count": 8,
   "metadata": {},
   "outputs": [],
   "source": [
    "training_set.set_index('Date', inplace=True)\n",
    "testing_set.set_index('Date', inplace=True)"
   ]
  },
  {
   "cell_type": "markdown",
   "metadata": {},
   "source": [
    "### Split the attribute and answer"
   ]
  },
  {
   "cell_type": "markdown",
   "metadata": {},
   "source": [
    "We predict the stock result by tracking the \"Gain or Loss\" attribute. Split up\n",
    "the dataset into 4 subsets."
   ]
  },
  {
   "cell_type": "code",
   "execution_count": 9,
   "metadata": {},
   "outputs": [],
   "source": [
    "training_attribute = training_set.drop(columns=['Gain or Loss', 'Volume'])\n",
    "training_answer = training_set['Gain or Loss']\n",
    "\n",
    "testing_attribute = testing_set.drop(columns=['Gain or Loss', 'Volume'])\n",
    "testing_answer = testing_set['Gain or Loss']"
   ]
  },
  {
   "cell_type": "markdown",
   "metadata": {},
   "source": [
    "### Encode the dataset"
   ]
  },
  {
   "cell_type": "markdown",
   "metadata": {},
   "source": [
    "Cover the dataset by using the LabelEncoder"
   ]
  },
  {
   "cell_type": "code",
   "execution_count": 10,
   "metadata": {},
   "outputs": [],
   "source": [
    "from sklearn.preprocessing import LabelEncoder\n",
    "\n",
    "label_encoder = LabelEncoder()\n",
    "training_answer = label_encoder.fit_transform(training_answer)\n",
    "testing_answer = label_encoder.fit_transform(testing_answer)"
   ]
  },
  {
   "cell_type": "markdown",
   "metadata": {},
   "source": [
    "### Training result data store"
   ]
  },
  {
   "cell_type": "markdown",
   "metadata": {},
   "source": [
    "We need a place to store the result. Make a new dataframe to achieve it."
   ]
  },
  {
   "cell_type": "code",
   "execution_count": 11,
   "metadata": {},
   "outputs": [],
   "source": [
    "training_result = \\\n",
    "    pd.DataFrame(training_attribute.reset_index().loc[:, ['Date']])\n",
    "training_result['Answer'] = training_answer\n",
    "\n",
    "testing_result = \\\n",
    "    pd.DataFrame(testing_attribute.reset_index().loc[:, ['Date']])\n",
    "testing_result['Answer'] = testing_answer\n"
   ]
  },
  {
   "cell_type": "markdown",
   "metadata": {},
   "source": [
    "---"
   ]
  },
  {
   "cell_type": "markdown",
   "metadata": {},
   "source": [
    "## Basic dataset info"
   ]
  },
  {
   "cell_type": "markdown",
   "metadata": {},
   "source": [
    "Below shows the size of the set"
   ]
  },
  {
   "cell_type": "code",
   "execution_count": 12,
   "metadata": {},
   "outputs": [
    {
     "name": "stdout",
     "output_type": "stream",
     "text": [
      "How many file is in the training set: 2264\n",
      "How many file is in the test set: 252\n"
     ]
    }
   ],
   "source": [
    "print('How many file is in the training set: {}'.format(\n",
    "    training_set.shape[0]))\n",
    "print('How many file is in the test set: {}'.format(\n",
    "    testing_set.shape[0]))"
   ]
  },
  {
   "cell_type": "markdown",
   "metadata": {},
   "source": [
    "Below shows the basic info of the data."
   ]
  },
  {
   "cell_type": "code",
   "execution_count": 13,
   "metadata": {},
   "outputs": [
    {
     "data": {
      "text/html": [
       "<div>\n",
       "<style scoped>\n",
       "    .dataframe tbody tr th:only-of-type {\n",
       "        vertical-align: middle;\n",
       "    }\n",
       "\n",
       "    .dataframe tbody tr th {\n",
       "        vertical-align: top;\n",
       "    }\n",
       "\n",
       "    .dataframe thead th {\n",
       "        text-align: right;\n",
       "    }\n",
       "</style>\n",
       "<table border=\"1\" class=\"dataframe\">\n",
       "  <thead>\n",
       "    <tr style=\"text-align: right;\">\n",
       "      <th></th>\n",
       "      <th>Open Price</th>\n",
       "      <th>Close Price</th>\n",
       "      <th>High Price</th>\n",
       "      <th>Low Price</th>\n",
       "      <th>Volume</th>\n",
       "      <th>10-days Average</th>\n",
       "      <th>10-days Correlation</th>\n",
       "      <th>Difference of Open &amp; Close</th>\n",
       "      <th>Difference of Open &amp; Open</th>\n",
       "      <th>Gain or Loss</th>\n",
       "    </tr>\n",
       "  </thead>\n",
       "  <tbody>\n",
       "    <tr>\n",
       "      <th>count</th>\n",
       "      <td>2264.000000</td>\n",
       "      <td>2264.000000</td>\n",
       "      <td>2264.000000</td>\n",
       "      <td>2264.000000</td>\n",
       "      <td>2.264000e+03</td>\n",
       "      <td>2264.000000</td>\n",
       "      <td>2264.000000</td>\n",
       "      <td>2264.000000</td>\n",
       "      <td>2264.000000</td>\n",
       "      <td>2264.000000</td>\n",
       "    </tr>\n",
       "    <tr>\n",
       "      <th>mean</th>\n",
       "      <td>1656.142686</td>\n",
       "      <td>1656.767562</td>\n",
       "      <td>1664.427054</td>\n",
       "      <td>1647.425128</td>\n",
       "      <td>2.948755e+09</td>\n",
       "      <td>1649.622438</td>\n",
       "      <td>0.399444</td>\n",
       "      <td>0.157200</td>\n",
       "      <td>0.788940</td>\n",
       "      <td>0.545936</td>\n",
       "    </tr>\n",
       "    <tr>\n",
       "      <th>std</th>\n",
       "      <td>485.292193</td>\n",
       "      <td>485.226120</td>\n",
       "      <td>484.808706</td>\n",
       "      <td>485.576116</td>\n",
       "      <td>1.351675e+09</td>\n",
       "      <td>492.752082</td>\n",
       "      <td>0.468154</td>\n",
       "      <td>2.767832</td>\n",
       "      <td>13.645306</td>\n",
       "      <td>0.497995</td>\n",
       "    </tr>\n",
       "    <tr>\n",
       "      <th>min</th>\n",
       "      <td>679.280000</td>\n",
       "      <td>676.530000</td>\n",
       "      <td>695.270000</td>\n",
       "      <td>666.790000</td>\n",
       "      <td>5.181584e+08</td>\n",
       "      <td>0.000000</td>\n",
       "      <td>-0.904145</td>\n",
       "      <td>-19.180000</td>\n",
       "      <td>-78.250000</td>\n",
       "      <td>0.000000</td>\n",
       "    </tr>\n",
       "    <tr>\n",
       "      <th>25%</th>\n",
       "      <td>1238.602500</td>\n",
       "      <td>1239.337500</td>\n",
       "      <td>1246.695000</td>\n",
       "      <td>1227.587500</td>\n",
       "      <td>2.048980e+09</td>\n",
       "      <td>1233.110000</td>\n",
       "      <td>0.065722</td>\n",
       "      <td>-0.820000</td>\n",
       "      <td>-5.672500</td>\n",
       "      <td>0.000000</td>\n",
       "    </tr>\n",
       "    <tr>\n",
       "      <th>50%</th>\n",
       "      <td>1649.135000</td>\n",
       "      <td>1650.405000</td>\n",
       "      <td>1656.145000</td>\n",
       "      <td>1639.600000</td>\n",
       "      <td>2.506637e+09</td>\n",
       "      <td>1645.724000</td>\n",
       "      <td>0.533908</td>\n",
       "      <td>0.010000</td>\n",
       "      <td>1.395000</td>\n",
       "      <td>1.000000</td>\n",
       "    </tr>\n",
       "    <tr>\n",
       "      <th>75%</th>\n",
       "      <td>2070.300000</td>\n",
       "      <td>2071.190000</td>\n",
       "      <td>2079.507500</td>\n",
       "      <td>2058.757500</td>\n",
       "      <td>3.373334e+09</td>\n",
       "      <td>2069.041750</td>\n",
       "      <td>0.796472</td>\n",
       "      <td>1.260000</td>\n",
       "      <td>8.190000</td>\n",
       "      <td>1.000000</td>\n",
       "    </tr>\n",
       "    <tr>\n",
       "      <th>max</th>\n",
       "      <td>2692.710000</td>\n",
       "      <td>2690.160000</td>\n",
       "      <td>2694.970000</td>\n",
       "      <td>2685.920000</td>\n",
       "      <td>9.120100e+09</td>\n",
       "      <td>2681.887000</td>\n",
       "      <td>0.988563</td>\n",
       "      <td>21.640000</td>\n",
       "      <td>70.020000</td>\n",
       "      <td>1.000000</td>\n",
       "    </tr>\n",
       "  </tbody>\n",
       "</table>\n",
       "</div>"
      ],
      "text/plain": [
       "        Open Price  Close Price   High Price    Low Price        Volume  \\\n",
       "count  2264.000000  2264.000000  2264.000000  2264.000000  2.264000e+03   \n",
       "mean   1656.142686  1656.767562  1664.427054  1647.425128  2.948755e+09   \n",
       "std     485.292193   485.226120   484.808706   485.576116  1.351675e+09   \n",
       "min     679.280000   676.530000   695.270000   666.790000  5.181584e+08   \n",
       "25%    1238.602500  1239.337500  1246.695000  1227.587500  2.048980e+09   \n",
       "50%    1649.135000  1650.405000  1656.145000  1639.600000  2.506637e+09   \n",
       "75%    2070.300000  2071.190000  2079.507500  2058.757500  3.373334e+09   \n",
       "max    2692.710000  2690.160000  2694.970000  2685.920000  9.120100e+09   \n",
       "\n",
       "       10-days Average  10-days Correlation  Difference of Open & Close  \\\n",
       "count      2264.000000          2264.000000                 2264.000000   \n",
       "mean       1649.622438             0.399444                    0.157200   \n",
       "std         492.752082             0.468154                    2.767832   \n",
       "min           0.000000            -0.904145                  -19.180000   \n",
       "25%        1233.110000             0.065722                   -0.820000   \n",
       "50%        1645.724000             0.533908                    0.010000   \n",
       "75%        2069.041750             0.796472                    1.260000   \n",
       "max        2681.887000             0.988563                   21.640000   \n",
       "\n",
       "       Difference of Open & Open  Gain or Loss  \n",
       "count                2264.000000   2264.000000  \n",
       "mean                    0.788940      0.545936  \n",
       "std                    13.645306      0.497995  \n",
       "min                   -78.250000      0.000000  \n",
       "25%                    -5.672500      0.000000  \n",
       "50%                     1.395000      1.000000  \n",
       "75%                     8.190000      1.000000  \n",
       "max                    70.020000      1.000000  "
      ]
     },
     "execution_count": 13,
     "metadata": {},
     "output_type": "execute_result"
    }
   ],
   "source": [
    "training_set.describe()"
   ]
  },
  {
   "cell_type": "code",
   "execution_count": 14,
   "metadata": {},
   "outputs": [
    {
     "data": {
      "text/html": [
       "<div>\n",
       "<style scoped>\n",
       "    .dataframe tbody tr th:only-of-type {\n",
       "        vertical-align: middle;\n",
       "    }\n",
       "\n",
       "    .dataframe tbody tr th {\n",
       "        vertical-align: top;\n",
       "    }\n",
       "\n",
       "    .dataframe thead th {\n",
       "        text-align: right;\n",
       "    }\n",
       "</style>\n",
       "<table border=\"1\" class=\"dataframe\">\n",
       "  <thead>\n",
       "    <tr style=\"text-align: right;\">\n",
       "      <th></th>\n",
       "      <th>Open Price</th>\n",
       "      <th>Close Price</th>\n",
       "      <th>High Price</th>\n",
       "      <th>Low Price</th>\n",
       "      <th>Volume</th>\n",
       "      <th>10-days Average</th>\n",
       "      <th>10-days Correlation</th>\n",
       "      <th>Difference of Open &amp; Close</th>\n",
       "      <th>Difference of Open &amp; Open</th>\n",
       "      <th>Gain or Loss</th>\n",
       "    </tr>\n",
       "  </thead>\n",
       "  <tbody>\n",
       "    <tr>\n",
       "      <th>count</th>\n",
       "      <td>252.000000</td>\n",
       "      <td>252.000000</td>\n",
       "      <td>252.000000</td>\n",
       "      <td>252.000000</td>\n",
       "      <td>2.520000e+02</td>\n",
       "      <td>252.000000</td>\n",
       "      <td>252.000000</td>\n",
       "      <td>252.000000</td>\n",
       "      <td>252.000000</td>\n",
       "      <td>252.000000</td>\n",
       "    </tr>\n",
       "    <tr>\n",
       "      <th>mean</th>\n",
       "      <td>2747.910397</td>\n",
       "      <td>2746.030873</td>\n",
       "      <td>2762.747778</td>\n",
       "      <td>2730.143929</td>\n",
       "      <td>2.154050e+09</td>\n",
       "      <td>2749.844397</td>\n",
       "      <td>0.323734</td>\n",
       "      <td>1.217778</td>\n",
       "      <td>-0.754802</td>\n",
       "      <td>0.523810</td>\n",
       "    </tr>\n",
       "    <tr>\n",
       "      <th>std</th>\n",
       "      <td>99.017479</td>\n",
       "      <td>100.251272</td>\n",
       "      <td>92.991345</td>\n",
       "      <td>106.490954</td>\n",
       "      <td>4.538626e+08</td>\n",
       "      <td>85.982293</td>\n",
       "      <td>0.527821</td>\n",
       "      <td>12.558050</td>\n",
       "      <td>27.902305</td>\n",
       "      <td>0.500427</td>\n",
       "    </tr>\n",
       "    <tr>\n",
       "      <th>min</th>\n",
       "      <td>2363.120000</td>\n",
       "      <td>2351.100000</td>\n",
       "      <td>2410.340000</td>\n",
       "      <td>2346.580000</td>\n",
       "      <td>9.516523e+08</td>\n",
       "      <td>2478.332000</td>\n",
       "      <td>-0.983363</td>\n",
       "      <td>-37.710000</td>\n",
       "      <td>-126.280000</td>\n",
       "      <td>0.000000</td>\n",
       "    </tr>\n",
       "    <tr>\n",
       "      <th>25%</th>\n",
       "      <td>2689.465000</td>\n",
       "      <td>2690.512500</td>\n",
       "      <td>2705.847500</td>\n",
       "      <td>2663.677500</td>\n",
       "      <td>1.879841e+09</td>\n",
       "      <td>2695.244250</td>\n",
       "      <td>-0.083015</td>\n",
       "      <td>-5.230000</td>\n",
       "      <td>-12.015000</td>\n",
       "      <td>0.000000</td>\n",
       "    </tr>\n",
       "    <tr>\n",
       "      <th>50%</th>\n",
       "      <td>2742.170000</td>\n",
       "      <td>2741.920000</td>\n",
       "      <td>2755.575000</td>\n",
       "      <td>2725.290000</td>\n",
       "      <td>2.063820e+09</td>\n",
       "      <td>2735.946500</td>\n",
       "      <td>0.436377</td>\n",
       "      <td>1.870000</td>\n",
       "      <td>0.185000</td>\n",
       "      <td>1.000000</td>\n",
       "    </tr>\n",
       "    <tr>\n",
       "      <th>75%</th>\n",
       "      <td>2811.430000</td>\n",
       "      <td>2814.322500</td>\n",
       "      <td>2824.802500</td>\n",
       "      <td>2800.630000</td>\n",
       "      <td>2.341078e+09</td>\n",
       "      <td>2816.067250</td>\n",
       "      <td>0.776135</td>\n",
       "      <td>8.237500</td>\n",
       "      <td>15.615000</td>\n",
       "      <td>1.000000</td>\n",
       "    </tr>\n",
       "    <tr>\n",
       "      <th>max</th>\n",
       "      <td>2936.760000</td>\n",
       "      <td>2930.750000</td>\n",
       "      <td>2940.910000</td>\n",
       "      <td>2927.110000</td>\n",
       "      <td>4.560164e+09</td>\n",
       "      <td>2920.283000</td>\n",
       "      <td>0.989670</td>\n",
       "      <td>82.370000</td>\n",
       "      <td>79.380000</td>\n",
       "      <td>1.000000</td>\n",
       "    </tr>\n",
       "  </tbody>\n",
       "</table>\n",
       "</div>"
      ],
      "text/plain": [
       "        Open Price  Close Price   High Price    Low Price        Volume  \\\n",
       "count   252.000000   252.000000   252.000000   252.000000  2.520000e+02   \n",
       "mean   2747.910397  2746.030873  2762.747778  2730.143929  2.154050e+09   \n",
       "std      99.017479   100.251272    92.991345   106.490954  4.538626e+08   \n",
       "min    2363.120000  2351.100000  2410.340000  2346.580000  9.516523e+08   \n",
       "25%    2689.465000  2690.512500  2705.847500  2663.677500  1.879841e+09   \n",
       "50%    2742.170000  2741.920000  2755.575000  2725.290000  2.063820e+09   \n",
       "75%    2811.430000  2814.322500  2824.802500  2800.630000  2.341078e+09   \n",
       "max    2936.760000  2930.750000  2940.910000  2927.110000  4.560164e+09   \n",
       "\n",
       "       10-days Average  10-days Correlation  Difference of Open & Close  \\\n",
       "count       252.000000           252.000000                  252.000000   \n",
       "mean       2749.844397             0.323734                    1.217778   \n",
       "std          85.982293             0.527821                   12.558050   \n",
       "min        2478.332000            -0.983363                  -37.710000   \n",
       "25%        2695.244250            -0.083015                   -5.230000   \n",
       "50%        2735.946500             0.436377                    1.870000   \n",
       "75%        2816.067250             0.776135                    8.237500   \n",
       "max        2920.283000             0.989670                   82.370000   \n",
       "\n",
       "       Difference of Open & Open  Gain or Loss  \n",
       "count                 252.000000    252.000000  \n",
       "mean                   -0.754802      0.523810  \n",
       "std                    27.902305      0.500427  \n",
       "min                  -126.280000      0.000000  \n",
       "25%                   -12.015000      0.000000  \n",
       "50%                     0.185000      1.000000  \n",
       "75%                    15.615000      1.000000  \n",
       "max                    79.380000      1.000000  "
      ]
     },
     "execution_count": 14,
     "metadata": {},
     "output_type": "execute_result"
    }
   ],
   "source": [
    "testing_set.describe()"
   ]
  },
  {
   "cell_type": "markdown",
   "metadata": {},
   "source": [
    "Below shows the stack plot"
   ]
  },
  {
   "cell_type": "code",
   "execution_count": 15,
   "metadata": {},
   "outputs": [],
   "source": [
    "column_show = ['Open Price', 'Close Price', 'High Price', 'Low Price',\n",
    "               '10-days Average']\n",
    "_ = dataset.plot(kind='line', x='Date', y=column_show,\n",
    "                 figsize=(12,10), subplots=False, grid=True,\n",
    "                 title='Stock Roadmap from {} to {}'.format(date[0][0],\n",
    "                                                            date[1][1]))"
   ]
  },
  {
   "cell_type": "markdown",
   "metadata": {},
   "source": [
    "As shown in the figure, the overall stock rate is improving.\n",
    "But more importantly, the Close Price is close to the rest attribute. This is\n",
    "important info since it can predict the stock movement from testing set."
   ]
  },
  {
   "cell_type": "markdown",
   "metadata": {},
   "source": [
    "---"
   ]
  },
  {
   "cell_type": "markdown",
   "metadata": {},
   "source": [
    "## Logistic Regression"
   ]
  },
  {
   "cell_type": "markdown",
   "metadata": {},
   "source": [
    "First, let us use the Logistic Regression model to predict the result."
   ]
  },
  {
   "cell_type": "markdown",
   "metadata": {},
   "source": [
    "### Import LogisticRegression model"
   ]
  },
  {
   "cell_type": "markdown",
   "metadata": {},
   "source": [
    "### Import LogisticRegression model"
   ]
  },
  {
   "cell_type": "code",
   "execution_count": 16,
   "metadata": {},
   "outputs": [
    {
     "data": {
      "text/plain": [
       "LogisticRegression(C=1.0, class_weight=None, dual=False, fit_intercept=True,\n",
       "          intercept_scaling=1, max_iter=1000, multi_class='multinomial',\n",
       "          n_jobs=None, penalty='l2', random_state=0, solver='lbfgs',\n",
       "          tol=0.0001, verbose=0, warm_start=False)"
      ]
     },
     "execution_count": 16,
     "metadata": {},
     "output_type": "execute_result"
    }
   ],
   "source": [
    "from sklearn.linear_model import LogisticRegression\n",
    "\n",
    "logrec_model = LogisticRegression(random_state=0, solver='lbfgs',\n",
    "                                  multi_class='multinomial', max_iter=1000)\n",
    "logrec_model.fit(training_attribute, training_answer)"
   ]
  },
  {
   "cell_type": "markdown",
   "metadata": {},
   "source": [
    "### Predict the Gain or loss"
   ]
  },
  {
   "cell_type": "code",
   "execution_count": 17,
   "metadata": {},
   "outputs": [],
   "source": [
    "logrec_training_predict = logrec_model.predict(training_attribute)\n",
    "logrec_testing_predict = logrec_model.predict(testing_attribute)\n"
   ]
  },
  {
   "cell_type": "markdown",
   "metadata": {},
   "source": [
    "### Record the result"
   ]
  },
  {
   "cell_type": "code",
   "execution_count": 18,
   "metadata": {},
   "outputs": [],
   "source": [
    "training_result['Logistic Regression Predict'] = logrec_training_predict\n",
    "testing_result['Logistic Regression Predict'] = logrec_testing_predict"
   ]
  },
  {
   "cell_type": "markdown",
   "metadata": {},
   "source": [
    "### Accuracy"
   ]
  },
  {
   "cell_type": "code",
   "execution_count": 19,
   "metadata": {},
   "outputs": [
    {
     "name": "stdout",
     "output_type": "stream",
     "text": [
      "Accuracy of training predict: 0.9960247349823321\n"
     ]
    }
   ],
   "source": [
    "print('Accuracy of training predict: {}'.format(\n",
    "    logrec_model.score(training_attribute, training_answer)))"
   ]
  },
  {
   "cell_type": "code",
   "execution_count": 20,
   "metadata": {},
   "outputs": [
    {
     "data": {
      "image/png": "[encoded data removed]",
      "text/plain": [
       "<Figure size 864x288 with 1 Axes>"
      ]
     },
     "metadata": {
      "needs_background": "light"
     },
     "output_type": "display_data"
    }
   ],
   "source": [
    "column_show = ['Answer', 'Logistic Regression Predict']\n",
    "_ = training_result.plot(\n",
    "    kind='line', x='Date', y=column_show,\n",
    "    figsize=(12, 4), subplots=False, style=',',\n",
    "    title='Logistic Regression: Training Stock Roadmap {}'.format(date[0]))"
   ]
  },
  {
   "cell_type": "code",
   "execution_count": 21,
   "metadata": {},
   "outputs": [
    {
     "name": "stdout",
     "output_type": "stream",
     "text": [
      "Accuracy of testing predict: 1.0\n"
     ]
    }
   ],
   "source": [
    "print('Accuracy of testing predict: {}'.format(\n",
    "    logrec_model.score(testing_attribute, testing_answer)))"
   ]
  },
  {
   "cell_type": "code",
   "execution_count": 22,
   "metadata": {},
   "outputs": [
    {
     "data": {
      "image/png": "[encoded data removed]",
      "text/plain": [
       "<Figure size 864x288 with 1 Axes>"
      ]
     },
     "metadata": {
      "needs_background": "light"
     },
     "output_type": "display_data"
    }
   ],
   "source": [
    "column_show = ['Answer', 'Logistic Regression Predict']\n",
    "_ = testing_result.plot(\n",
    "    kind='line', x='Date', y=column_show,\n",
    "    figsize=(12, 4), subplots=False, style='x',\n",
    "    title='Logistic Regression: Training Stock Roadmap {}'.format(date[1]))"
   ]
  },
  {
   "cell_type": "markdown",
   "metadata": {},
   "source": [
    "### Coefficient"
   ]
  },
  {
   "cell_type": "code",
   "execution_count": 23,
   "metadata": {},
   "outputs": [
    {
     "data": {
      "text/html": [
       "<div>\n",
       "<style scoped>\n",
       "    .dataframe tbody tr th:only-of-type {\n",
       "        vertical-align: middle;\n",
       "    }\n",
       "\n",
       "    .dataframe tbody tr th {\n",
       "        vertical-align: top;\n",
       "    }\n",
       "\n",
       "    .dataframe thead th {\n",
       "        text-align: right;\n",
       "    }\n",
       "</style>\n",
       "<table border=\"1\" class=\"dataframe\">\n",
       "  <thead>\n",
       "    <tr style=\"text-align: right;\">\n",
       "      <th></th>\n",
       "      <th>0</th>\n",
       "      <th>1</th>\n",
       "    </tr>\n",
       "  </thead>\n",
       "  <tbody>\n",
       "    <tr>\n",
       "      <th>0</th>\n",
       "      <td>Open Price</td>\n",
       "      <td>[-1.1234309557917452]</td>\n",
       "    </tr>\n",
       "    <tr>\n",
       "      <th>1</th>\n",
       "      <td>Close Price</td>\n",
       "      <td>[1.1476007737116245]</td>\n",
       "    </tr>\n",
       "    <tr>\n",
       "      <th>2</th>\n",
       "      <td>High Price</td>\n",
       "      <td>[-0.020502040313513832]</td>\n",
       "    </tr>\n",
       "    <tr>\n",
       "      <th>3</th>\n",
       "      <td>Low Price</td>\n",
       "      <td>[-0.006998042603225656]</td>\n",
       "    </tr>\n",
       "    <tr>\n",
       "      <th>4</th>\n",
       "      <td>10-days Average</td>\n",
       "      <td>[0.0032728714906275105]</td>\n",
       "    </tr>\n",
       "    <tr>\n",
       "      <th>5</th>\n",
       "      <td>10-days Correlation</td>\n",
       "      <td>[0.20934444906248428]</td>\n",
       "    </tr>\n",
       "    <tr>\n",
       "      <th>6</th>\n",
       "      <td>Difference of Open &amp; Close</td>\n",
       "      <td>[1.1408733884873905]</td>\n",
       "    </tr>\n",
       "    <tr>\n",
       "      <th>7</th>\n",
       "      <td>Difference of Open &amp; Open</td>\n",
       "      <td>[-0.004095381219420196]</td>\n",
       "    </tr>\n",
       "  </tbody>\n",
       "</table>\n",
       "</div>"
      ],
      "text/plain": [
       "                            0                        1\n",
       "0                  Open Price    [-1.1234309557917452]\n",
       "1                 Close Price     [1.1476007737116245]\n",
       "2                  High Price  [-0.020502040313513832]\n",
       "3                   Low Price  [-0.006998042603225656]\n",
       "4             10-days Average  [0.0032728714906275105]\n",
       "5         10-days Correlation    [0.20934444906248428]\n",
       "6  Difference of Open & Close     [1.1408733884873905]\n",
       "7   Difference of Open & Open  [-0.004095381219420196]"
      ]
     },
     "execution_count": 23,
     "metadata": {},
     "output_type": "execute_result"
    }
   ],
   "source": [
    "pd.DataFrame(zip(training_attribute.columns, np.transpose(logrec_model.coef_)))"
   ]
  },
  {
   "cell_type": "markdown",
   "metadata": {},
   "source": [
    "This model recognized the \"Close Price\" and \"Difference of Open & Close\"\n",
    "as the influential variables. Since the result is based on Close Price,\n",
    "it is reasonable."
   ]
  },
  {
   "cell_type": "markdown",
   "metadata": {},
   "source": [
    "### Class Probabilities"
   ]
  },
  {
   "cell_type": "code",
   "execution_count": 24,
   "metadata": {},
   "outputs": [
    {
     "name": "stdout",
     "output_type": "stream",
     "text": [
      "[[1.43347953e-022 1.00000000e+000]\n",
      " [1.36356409e-017 1.00000000e+000]\n",
      " [2.40813477e-011 1.00000000e+000]\n",
      " [1.45168688e-019 1.00000000e+000]\n",
      " [3.53129730e-005 9.99964687e-001]\n",
      " [3.89787351e-004 9.99610213e-001]\n",
      " [9.98978642e-001 1.02135784e-003]\n",
      " [9.99378989e-020 1.00000000e+000]\n",
      " [5.52211604e-019 1.00000000e+000]\n",
      " [1.00000000e+000 1.09459253e-010]\n",
      " [1.76817658e-026 1.00000000e+000]\n",
      " [9.99972128e-001 2.78721243e-005]\n",
      " [7.23027759e-013 1.00000000e+000]\n",
      " [6.07541437e-023 1.00000000e+000]\n",
      " [1.14361092e-006 9.99998856e-001]\n",
      " [9.78927789e-001 2.10722110e-002]\n",
      " [1.85023782e-002 9.81497622e-001]\n",
      " [8.64613762e-034 1.00000000e+000]\n",
      " [1.00000000e+000 5.35046030e-020]\n",
      " [1.00000000e+000 2.12520975e-031]\n",
      " [4.10462721e-002 9.58953728e-001]\n",
      " [9.90237336e-001 9.76266442e-003]\n",
      " [1.00000000e+000 5.07103254e-060]\n",
      " [1.00000000e+000 8.36580023e-113]\n",
      " [1.43295310e-046 1.00000000e+000]\n",
      " [1.00000000e+000 1.14182221e-014]\n",
      " [1.00000000e+000 4.08519774e-100]\n",
      " [1.40327328e-039 1.00000000e+000]\n",
      " [1.32719721e-036 1.00000000e+000]\n",
      " [1.48819612e-007 9.99999851e-001]\n",
      " [1.30816508e-035 1.00000000e+000]\n",
      " [1.43122890e-032 1.00000000e+000]\n",
      " [3.65775541e-001 6.34224459e-001]\n",
      " [1.00000000e+000 5.55016429e-017]\n",
      " [1.00000000e+000 2.80161955e-016]\n",
      " [9.75843551e-003 9.90241564e-001]\n",
      " [4.82045067e-043 1.00000000e+000]\n",
      " [3.75084791e-032 1.00000000e+000]\n",
      " [1.00000000e+000 4.37795691e-036]\n",
      " [1.00000000e+000 5.69682080e-031]\n",
      " [1.00000000e+000 1.38485783e-036]\n",
      " [4.10935081e-014 1.00000000e+000]\n",
      " [1.41171057e-029 1.00000000e+000]\n",
      " [1.11970251e-007 9.99999888e-001]\n",
      " [9.67521567e-001 3.24784333e-002]\n",
      " [1.59071144e-012 1.00000000e+000]\n",
      " [2.57144487e-047 1.00000000e+000]\n",
      " [9.99854408e-001 1.45591768e-004]\n",
      " [1.00000000e+000 1.74374913e-018]\n",
      " [1.00000000e+000 2.16892798e-016]\n",
      " [9.92857710e-001 7.14229044e-003]\n",
      " [3.22119834e-005 9.99967788e-001]\n",
      " [1.00000000e+000 2.41191808e-039]\n",
      " [1.14837095e-004 9.99885163e-001]\n",
      " [9.99996481e-001 3.51927421e-006]\n",
      " [1.00000000e+000 2.67473558e-068]\n",
      " [1.00000000e+000 2.04690559e-055]\n",
      " [2.19251688e-070 1.00000000e+000]\n",
      " [1.00000000e+000 2.89897014e-046]\n",
      " [9.99999957e-001 4.33413735e-008]\n",
      " [6.85412574e-036 1.00000000e+000]\n",
      " [1.00000000e+000 5.20889813e-059]\n",
      " [4.01557507e-033 1.00000000e+000]\n",
      " [3.76205692e-030 1.00000000e+000]\n",
      " [4.00275119e-018 1.00000000e+000]\n",
      " [1.00000000e+000 9.69802987e-059]\n",
      " [8.15294371e-009 9.99999992e-001]\n",
      " [1.80007163e-043 1.00000000e+000]\n",
      " [1.00000000e+000 9.85652119e-016]\n",
      " [7.50989501e-022 1.00000000e+000]\n",
      " [9.99999988e-001 1.20155326e-008]\n",
      " [7.56003515e-022 1.00000000e+000]\n",
      " [1.17703053e-028 1.00000000e+000]\n",
      " [8.97008390e-003 9.91029916e-001]\n",
      " [1.00000000e+000 5.19723862e-016]\n",
      " [1.00000000e+000 2.08725912e-023]\n",
      " [3.76276568e-001 6.23723432e-001]\n",
      " [1.00000000e+000 4.13849700e-036]\n",
      " [1.05576223e-005 9.99989442e-001]\n",
      " [1.32595144e-027 1.00000000e+000]\n",
      " [1.81501271e-003 9.98184987e-001]\n",
      " [1.00000000e+000 1.02030725e-022]\n",
      " [2.13216027e-007 9.99999787e-001]\n",
      " [1.00000000e+000 7.82818379e-020]\n",
      " [9.99997475e-001 2.52455638e-006]\n",
      " [1.19172031e-033 1.00000000e+000]\n",
      " [2.16323402e-009 9.99999998e-001]\n",
      " [8.60965081e-001 1.39034919e-001]\n",
      " [5.37531482e-026 1.00000000e+000]\n",
      " [2.61051584e-025 1.00000000e+000]\n",
      " [4.68130538e-005 9.99953187e-001]\n",
      " [6.68841268e-003 9.93311587e-001]\n",
      " [1.00000000e+000 4.07854535e-019]\n",
      " [1.67600371e-011 1.00000000e+000]\n",
      " [9.96425726e-001 3.57427378e-003]\n",
      " [9.99999911e-001 8.91083482e-008]\n",
      " [2.14509448e-020 1.00000000e+000]\n",
      " [9.99999998e-001 2.43634437e-009]\n",
      " [2.13058701e-009 9.99999998e-001]\n",
      " [9.99996470e-001 3.52957771e-006]\n",
      " [9.99999557e-001 4.42901433e-007]\n",
      " [1.00000000e+000 8.01721415e-032]\n",
      " [2.97472053e-034 1.00000000e+000]\n",
      " [1.00000000e+000 2.22954230e-019]\n",
      " [1.34942144e-029 1.00000000e+000]\n",
      " [1.19354025e-012 1.00000000e+000]\n",
      " [1.24729517e-002 9.87527048e-001]\n",
      " [6.74621501e-024 1.00000000e+000]\n",
      " [9.91467462e-001 8.53253832e-003]\n",
      " [3.12100442e-009 9.99999997e-001]\n",
      " [1.81430866e-003 9.98185691e-001]\n",
      " [1.62244474e-005 9.99983776e-001]\n",
      " [1.00000000e+000 6.94716939e-012]\n",
      " [1.56299204e-007 9.99999844e-001]\n",
      " [9.97967008e-001 2.03299195e-003]\n",
      " [9.99998387e-001 1.61260739e-006]\n",
      " [1.00000000e+000 7.70295207e-012]\n",
      " [3.38964339e-005 9.99966104e-001]\n",
      " [1.00000000e+000 3.19725518e-018]\n",
      " [1.15666951e-005 9.99988433e-001]\n",
      " [1.00000000e+000 5.06769433e-038]\n",
      " [9.93895183e-007 9.99999006e-001]\n",
      " [1.00000000e+000 4.22669979e-024]\n",
      " [2.69731427e-017 1.00000000e+000]\n",
      " [1.55902782e-002 9.84409722e-001]\n",
      " [5.16246584e-009 9.99999995e-001]\n",
      " [1.00000000e+000 3.66564182e-014]\n",
      " [7.40475715e-024 1.00000000e+000]\n",
      " [2.84042551e-023 1.00000000e+000]\n",
      " [2.66456648e-024 1.00000000e+000]\n",
      " [6.85689951e-010 9.99999999e-001]\n",
      " [1.00000000e+000 1.25090771e-020]\n",
      " [1.68521875e-024 1.00000000e+000]\n",
      " [1.47835027e-003 9.98521650e-001]\n",
      " [9.98709471e-001 1.29052948e-003]\n",
      " [1.59777730e-011 1.00000000e+000]\n",
      " [1.15675409e-006 9.99998843e-001]\n",
      " [1.00000000e+000 1.05312992e-011]\n",
      " [9.97628746e-001 2.37125368e-003]\n",
      " [7.72838508e-006 9.99992272e-001]\n",
      " [6.96855750e-014 1.00000000e+000]\n",
      " [7.43346009e-026 1.00000000e+000]\n",
      " [9.99999998e-001 1.74842416e-009]\n",
      " [1.00000000e+000 3.80559314e-019]\n",
      " [1.00000000e+000 1.02563379e-016]\n",
      " [3.75552059e-014 1.00000000e+000]\n",
      " [9.98930622e-001 1.06937802e-003]\n",
      " [2.95535304e-014 1.00000000e+000]\n",
      " [1.68105671e-013 1.00000000e+000]\n",
      " [1.78800710e-010 1.00000000e+000]\n",
      " [1.65208894e-008 9.99999983e-001]\n",
      " [8.57844027e-001 1.42155973e-001]\n",
      " [9.99922099e-001 7.79006782e-005]\n",
      " [1.00000000e+000 1.09347354e-020]\n",
      " [1.00000000e+000 4.98056468e-012]\n",
      " [1.75172927e-018 1.00000000e+000]\n",
      " [1.00000000e+000 4.57484162e-022]\n",
      " [1.92063172e-022 1.00000000e+000]\n",
      " [1.01290420e-009 9.99999999e-001]\n",
      " [2.45156074e-007 9.99999755e-001]\n",
      " [2.80902719e-006 9.99997191e-001]\n",
      " [9.43027377e-001 5.69726226e-002]\n",
      " [9.99986598e-001 1.34017053e-005]\n",
      " [3.57315170e-018 1.00000000e+000]\n",
      " [2.31320912e-022 1.00000000e+000]\n",
      " [1.66757855e-001 8.33242145e-001]\n",
      " [5.96389806e-017 1.00000000e+000]\n",
      " [1.00000000e+000 1.51462677e-013]\n",
      " [2.80749632e-001 7.19250368e-001]\n",
      " [9.99978460e-001 2.15401523e-005]\n",
      " [9.99999988e-001 1.17399934e-008]\n",
      " [1.00000000e+000 3.97731952e-011]\n",
      " [9.99999665e-001 3.34582533e-007]\n",
      " [7.38896999e-006 9.99992611e-001]\n",
      " [4.72914110e-011 1.00000000e+000]\n",
      " [1.66116462e-001 8.33883538e-001]\n",
      " [1.71870817e-015 1.00000000e+000]\n",
      " [2.10693131e-001 7.89306869e-001]\n",
      " [1.00000000e+000 6.02488095e-017]\n",
      " [1.08789675e-015 1.00000000e+000]\n",
      " [5.18457875e-004 9.99481542e-001]\n",
      " [5.05933774e-023 1.00000000e+000]\n",
      " [9.41932489e-001 5.80675105e-002]\n",
      " [1.00000000e+000 7.80804374e-011]\n",
      " [9.99828012e-001 1.71988009e-004]\n",
      " [1.00000000e+000 2.00433857e-010]\n",
      " [1.74933373e-008 9.99999983e-001]\n",
      " [5.77749122e-001 4.22250878e-001]\n",
      " [5.48900327e-011 1.00000000e+000]\n",
      " [9.54189133e-001 4.58108667e-002]\n",
      " [1.63032261e-002 9.83696774e-001]\n",
      " [1.00000000e+000 2.41930264e-024]\n",
      " [1.00000000e+000 1.45236524e-016]\n",
      " [9.04421286e-001 9.55787135e-002]\n",
      " [9.99919236e-001 8.07643129e-005]\n",
      " [1.00000000e+000 2.69582004e-094]\n",
      " [1.00000000e+000 5.80330207e-057]\n",
      " [1.11951921e-039 1.00000000e+000]\n",
      " [1.00000000e+000 9.48199953e-017]\n",
      " [5.10993785e-059 1.00000000e+000]\n",
      " [8.30885534e-001 1.69114466e-001]\n",
      " [1.00000000e+000 1.16753674e-040]\n",
      " [9.32029111e-001 6.79708892e-002]\n",
      " [1.00000000e+000 1.66345172e-012]\n",
      " [1.00000000e+000 9.20557612e-016]\n",
      " [1.00000000e+000 1.43990405e-084]\n",
      " [1.18112230e-049 1.00000000e+000]\n",
      " [1.00000000e+000 4.40966704e-047]\n",
      " [1.00000000e+000 5.58651922e-018]\n",
      " [1.03263205e-041 1.00000000e+000]\n",
      " [6.29575279e-029 1.00000000e+000]\n",
      " [8.09527102e-029 1.00000000e+000]\n",
      " [1.00000000e+000 3.52471859e-018]\n",
      " [1.56397343e-015 1.00000000e+000]\n",
      " [3.63372641e-017 1.00000000e+000]\n",
      " [1.02951729e-057 1.00000000e+000]\n",
      " [9.99999970e-001 2.97904073e-008]\n",
      " [1.00000000e+000 2.36086270e-026]\n",
      " [1.00000000e+000 5.02269454e-055]\n",
      " [9.99937562e-001 6.24381140e-005]\n",
      " [1.00000000e+000 2.91364763e-021]\n",
      " [6.36524450e-029 1.00000000e+000]\n",
      " [2.91700494e-006 9.99997083e-001]\n",
      " [1.00000000e+000 5.50689406e-046]\n",
      " [1.00000000e+000 5.81615244e-049]\n",
      " [1.29263030e-008 9.99999987e-001]\n",
      " [1.00000000e+000 8.22144298e-018]\n",
      " [4.20913335e-041 1.00000000e+000]\n",
      " [2.80542311e-009 9.99999997e-001]\n",
      " [4.22235507e-061 1.00000000e+000]\n",
      " [9.99999684e-001 3.15753333e-007]\n",
      " [1.73073037e-022 1.00000000e+000]\n",
      " [5.04083748e-030 1.00000000e+000]\n",
      " [1.00000000e+000 1.40297883e-090]\n",
      " [6.87932276e-001 3.12067724e-001]\n",
      " [9.99804397e-001 1.95602775e-004]\n",
      " [1.00000000e+000 2.13400025e-063]\n",
      " [1.15358904e-005 9.99988464e-001]\n",
      " [9.37416832e-001 6.25831685e-002]\n",
      " [2.07559480e-014 1.00000000e+000]\n",
      " [8.11918966e-001 1.88081034e-001]\n",
      " [1.00000000e+000 1.15430569e-050]\n",
      " [1.00000000e+000 6.36721798e-054]\n",
      " [2.34629935e-001 7.65370065e-001]\n",
      " [1.00000000e+000 9.07046048e-040]\n",
      " [1.00000000e+000 2.18379430e-039]\n",
      " [1.00000000e+000 3.75032286e-051]\n",
      " [1.00000000e+000 4.84808980e-065]\n",
      " [7.60764662e-116 1.00000000e+000]\n",
      " [2.16914647e-021 1.00000000e+000]\n",
      " [9.99689789e-001 3.10211142e-004]\n",
      " [1.39555474e-021 1.00000000e+000]]\n"
     ]
    }
   ],
   "source": [
    "print(logrec_model.predict_proba(testing_attribute))"
   ]
  },
  {
   "cell_type": "markdown",
   "metadata": {},
   "source": [
    "### Confusion Matrix"
   ]
  },
  {
   "cell_type": "code",
   "execution_count": 25,
   "metadata": {},
   "outputs": [
    {
     "name": "stdout",
     "output_type": "stream",
     "text": [
      "     -1    1\n",
      "-1  120    0\n",
      " 1    0  132\n"
     ]
    }
   ],
   "source": [
    "from sklearn.metrics import confusion_matrix\n",
    "\n",
    "print(pd.DataFrame(confusion_matrix(testing_answer, logrec_testing_predict),\n",
    "                   index=[-1, 1], columns=[-1, 1]))"
   ]
  },
  {
   "cell_type": "markdown",
   "metadata": {},
   "source": [
    "---"
   ]
  },
  {
   "cell_type": "markdown",
   "metadata": {},
   "source": [
    "## SVM"
   ]
  },
  {
   "cell_type": "markdown",
   "metadata": {},
   "source": [
    "Now, we will try the SVM model to predict the result"
   ]
  },
  {
   "cell_type": "markdown",
   "metadata": {},
   "source": [
    "### Standardization"
   ]
  },
  {
   "cell_type": "markdown",
   "metadata": {},
   "source": [
    "Before we operate the model, we need to standardize the dataset."
   ]
  },
  {
   "cell_type": "code",
   "execution_count": 26,
   "metadata": {},
   "outputs": [],
   "source": [
    "from sklearn.preprocessing import StandardScaler\n",
    "\n",
    "standard_scaler = StandardScaler()\n",
    "standard_scaler.fit(training_attribute)\n",
    "svm_training_attribute = standard_scaler.transform(training_attribute)\n",
    "svm_testing_attribute = standard_scaler.transform(testing_attribute)\n",
    "#### Import SVM model"
   ]
  },
  {
   "cell_type": "code",
   "execution_count": 27,
   "metadata": {},
   "outputs": [
    {
     "data": {
      "text/plain": [
       "SVC(C=0.5, cache_size=200, class_weight=None, coef0=0.0,\n",
       "  decision_function_shape='ovr', degree=3, gamma='auto_deprecated',\n",
       "  kernel='linear', max_iter=-1, probability=True, random_state=None,\n",
       "  shrinking=True, tol=0.001, verbose=False)"
      ]
     },
     "execution_count": 27,
     "metadata": {},
     "output_type": "execute_result"
    }
   ],
   "source": [
    "from sklearn.svm import SVC\n",
    "\n",
    "svm_model = SVC(C=0.5, kernel='linear', probability=True)\n",
    "svm_model.fit(svm_training_attribute, training_answer)"
   ]
  },
  {
   "cell_type": "markdown",
   "metadata": {},
   "source": [
    "### Predict the Gain or loss"
   ]
  },
  {
   "cell_type": "code",
   "execution_count": 28,
   "metadata": {},
   "outputs": [],
   "source": [
    "svm_training_predict = svm_model.predict(training_attribute)\n",
    "svm_testing_predict = svm_model.predict(testing_attribute)"
   ]
  },
  {
   "cell_type": "markdown",
   "metadata": {},
   "source": [
    "### Record the result"
   ]
  },
  {
   "cell_type": "code",
   "execution_count": 29,
   "metadata": {},
   "outputs": [],
   "source": [
    "training_result['SVM Predict'] = logrec_training_predict\n",
    "testing_result['SVM Predict'] = logrec_testing_predict"
   ]
  },
  {
   "cell_type": "markdown",
   "metadata": {},
   "source": [
    "### Accuracy"
   ]
  },
  {
   "cell_type": "code",
   "execution_count": 30,
   "metadata": {},
   "outputs": [
    {
     "name": "stdout",
     "output_type": "stream",
     "text": [
      "Accuracy of training predict: 0.463339222614841\n"
     ]
    }
   ],
   "source": [
    "print('Accuracy of training predict: {}'.format(\n",
    "    svm_model.score(training_attribute, training_answer)))"
   ]
  },
  {
   "cell_type": "code",
   "execution_count": 31,
   "metadata": {},
   "outputs": [
    {
     "data": {
      "image/png": "[encoded data removed]",
      "text/plain": [
       "<Figure size 864x288 with 1 Axes>"
      ]
     },
     "metadata": {
      "needs_background": "light"
     },
     "output_type": "display_data"
    }
   ],
   "source": [
    "column_show = ['Answer', 'SVM Predict']\n",
    "_ = training_result.plot(\n",
    "    kind='line', x='Date', y=column_show,\n",
    "    figsize=(12, 4), subplots=False, style=',',\n",
    "    title='SVM: Training Stock Roadmap {}'.format(date[0]))"
   ]
  },
  {
   "cell_type": "code",
   "execution_count": 32,
   "metadata": {},
   "outputs": [
    {
     "name": "stdout",
     "output_type": "stream",
     "text": [
      "Accuracy of testing predict: 0.4801587301587302\n"
     ]
    }
   ],
   "source": [
    "print('Accuracy of testing predict: {}'.format(\n",
    "    svm_model.score(testing_attribute, testing_answer)))"
   ]
  },
  {
   "cell_type": "code",
   "execution_count": 33,
   "metadata": {},
   "outputs": [
    {
     "data": {
      "image/png": "[encoded data removed]",
      "text/plain": [
       "<Figure size 864x288 with 1 Axes>"
      ]
     },
     "metadata": {
      "needs_background": "light"
     },
     "output_type": "display_data"
    }
   ],
   "source": [
    "column_show = ['Answer', 'SVM Predict']\n",
    "_ = testing_result.plot(\n",
    "    kind='line', x='Date', y=column_show,\n",
    "    figsize=(12, 4), subplots=False, style='x',\n",
    "    title='SVM: Training Stock Roadmap {}'.format(date[1]))"
   ]
  },
  {
   "cell_type": "markdown",
   "metadata": {},
   "source": [
    "### Support Vectors"
   ]
  },
  {
   "cell_type": "code",
   "execution_count": 34,
   "metadata": {},
   "outputs": [
    {
     "data": {
      "text/plain": [
       "array([854, 856])"
      ]
     },
     "execution_count": 34,
     "metadata": {},
     "output_type": "execute_result"
    }
   ],
   "source": [
    "svm_model.n_support_"
   ]
  },
  {
   "cell_type": "code",
   "execution_count": 35,
   "metadata": {},
   "outputs": [
    {
     "name": "stdout",
     "output_type": "stream",
     "text": [
      "Prediction: [0 0 0 0 0 0 0 0 0 0 0 0 0 0 0 0 0 0 0 0 0 0 0 0 0 0 0 0 0 0 0 0 0 0 0 0 0\n",
      " 0 0 0 0 0 0 0 0 0 0 0 0 0 0 0 0 0 0 0 0 0 0 0 0 0 0 0 0 0 0 0 0 0 0 0 0 0\n",
      " 0 0 0 0 0 0 0 0 0 0 0 0 0 0 0 0 0 0 0 0 0 0 0 0 0 0 0 0 0 0 0 0 0 0 0 0 0\n",
      " 0 0 0 0 0 0 0 0 0 0 0 0 0 0 0 0 0 0 0 0 0 0 0 0 0 0 0 0 0 0 0 0 0 0 0 0 0\n",
      " 0 0 0 0 0 0 0 0 0 0 0 0 0 0 0 0 0 0 0 0 0 0 0 0 0 0 0 0 0 0 0 0 0 0 0 0 0\n",
      " 0 0 0 0 0 0 0 0 0 0 0 0 0 0 0 0 0 0 0 0 0 0 0 0 0 0 0 0 0 0 0 0 0 0 0 0 0\n",
      " 0 0 0 0 0 0 0 0 0 0 0 0 0 0 0 0 0 0 0 0 0 0 0 0 0 0 1 0 0 0]\n",
      "Real label: [1 1 1 1 1 1 0 1 1 0 1 0 1 1 1 0 1 1 0 0 1 0 0 0 1 0 0 1 1 1 1 1 1 0 0 1 1\n",
      " 1 0 0 0 1 1 1 0 1 1 0 0 0 0 1 0 1 0 0 0 1 0 0 1 0 1 1 1 0 1 1 0 1 0 1 1 1\n",
      " 0 0 1 0 1 1 1 0 1 0 0 1 1 0 1 1 1 1 0 1 0 0 1 0 1 0 0 0 1 0 1 1 1 1 0 1 1\n",
      " 1 0 1 0 0 0 1 0 1 0 1 0 1 1 1 0 1 1 1 1 0 1 1 0 1 1 0 0 1 1 1 0 0 0 1 0 1\n",
      " 1 1 1 0 0 0 0 1 0 1 1 1 1 0 0 1 1 1 1 0 1 0 0 0 0 1 1 1 1 1 0 1 1 1 0 0 0\n",
      " 0 1 0 1 0 1 0 0 0 0 0 0 1 0 1 0 0 0 0 0 0 1 0 0 1 1 1 0 1 1 1 0 0 0 0 0 1\n",
      " 1 0 0 1 0 1 1 1 0 1 1 0 0 0 0 1 0 1 0 0 0 1 0 0 0 0 1 1 0 1]\n"
     ]
    }
   ],
   "source": [
    "print(\"Prediction: {}\".format(svm_testing_predict))\n",
    "print(\"Real label: {}\".format(testing_answer))"
   ]
  },
  {
   "cell_type": "markdown",
   "metadata": {},
   "source": [
    "### Class Probabilities"
   ]
  },
  {
   "cell_type": "code",
   "execution_count": 36,
   "metadata": {},
   "outputs": [
    {
     "name": "stdout",
     "output_type": "stream",
     "text": [
      "[[9.9999990e-01 1.0000001e-07]\n",
      " [9.9999990e-01 1.0000001e-07]\n",
      " [9.9999990e-01 1.0000001e-07]\n",
      " [9.9999990e-01 1.0000001e-07]\n",
      " [9.9999990e-01 1.0000001e-07]\n",
      " [9.9999990e-01 1.0000001e-07]\n",
      " [9.9999990e-01 1.0000001e-07]\n",
      " [9.9999990e-01 1.0000001e-07]\n",
      " [9.9999990e-01 1.0000001e-07]\n",
      " [9.9999990e-01 1.0000001e-07]\n",
      " [9.9999990e-01 1.0000001e-07]\n",
      " [9.9999990e-01 1.0000001e-07]\n",
      " [9.9999990e-01 1.0000001e-07]\n",
      " [9.9999990e-01 1.0000001e-07]\n",
      " [9.9999990e-01 1.0000001e-07]\n",
      " [9.9999990e-01 1.0000001e-07]\n",
      " [9.9999990e-01 1.0000001e-07]\n",
      " [9.9999990e-01 1.0000001e-07]\n",
      " [9.9999990e-01 1.0000001e-07]\n",
      " [9.9999990e-01 1.0000001e-07]\n",
      " [9.9999990e-01 1.0000001e-07]\n",
      " [9.9999990e-01 1.0000001e-07]\n",
      " [9.9999990e-01 1.0000001e-07]\n",
      " [9.9999990e-01 1.0000001e-07]\n",
      " [9.9999990e-01 1.0000001e-07]\n",
      " [9.9999990e-01 1.0000001e-07]\n",
      " [9.9999990e-01 1.0000001e-07]\n",
      " [9.9999990e-01 1.0000001e-07]\n",
      " [9.9999990e-01 1.0000001e-07]\n",
      " [9.9999990e-01 1.0000001e-07]\n",
      " [9.9999990e-01 1.0000001e-07]\n",
      " [9.9999990e-01 1.0000001e-07]\n",
      " [9.9999990e-01 1.0000001e-07]\n",
      " [9.9999990e-01 1.0000001e-07]\n",
      " [9.9999990e-01 1.0000001e-07]\n",
      " [9.9999990e-01 1.0000001e-07]\n",
      " [9.9999990e-01 1.0000001e-07]\n",
      " [9.9999990e-01 1.0000001e-07]\n",
      " [9.9999990e-01 1.0000001e-07]\n",
      " [9.9999990e-01 1.0000001e-07]\n",
      " [9.9999990e-01 1.0000001e-07]\n",
      " [9.9999990e-01 1.0000001e-07]\n",
      " [9.9999990e-01 1.0000001e-07]\n",
      " [9.9999990e-01 1.0000001e-07]\n",
      " [9.9999990e-01 1.0000001e-07]\n",
      " [9.9999990e-01 1.0000001e-07]\n",
      " [9.9999990e-01 1.0000001e-07]\n",
      " [9.9999990e-01 1.0000001e-07]\n",
      " [9.9999990e-01 1.0000001e-07]\n",
      " [9.9999990e-01 1.0000001e-07]\n",
      " [9.9999990e-01 1.0000001e-07]\n",
      " [9.9999990e-01 1.0000001e-07]\n",
      " [9.9999990e-01 1.0000001e-07]\n",
      " [9.9999990e-01 1.0000001e-07]\n",
      " [9.9999990e-01 1.0000001e-07]\n",
      " [9.9999990e-01 1.0000001e-07]\n",
      " [9.9999990e-01 1.0000001e-07]\n",
      " [9.9999990e-01 1.0000001e-07]\n",
      " [9.9999990e-01 1.0000001e-07]\n",
      " [9.9999990e-01 1.0000001e-07]\n",
      " [9.9999990e-01 1.0000001e-07]\n",
      " [9.9999990e-01 1.0000001e-07]\n",
      " [9.9999990e-01 1.0000001e-07]\n",
      " [9.9999990e-01 1.0000001e-07]\n",
      " [9.9999990e-01 1.0000001e-07]\n",
      " [9.9999990e-01 1.0000001e-07]\n",
      " [9.9999990e-01 1.0000001e-07]\n",
      " [9.9999990e-01 1.0000001e-07]\n",
      " [9.9999990e-01 1.0000001e-07]\n",
      " [9.9999990e-01 1.0000001e-07]\n",
      " [9.9999990e-01 1.0000001e-07]\n",
      " [9.9999990e-01 1.0000001e-07]\n",
      " [9.9999990e-01 1.0000001e-07]\n",
      " [9.9999990e-01 1.0000001e-07]\n",
      " [9.9999990e-01 1.0000001e-07]\n",
      " [9.9999990e-01 1.0000001e-07]\n",
      " [9.9999990e-01 1.0000001e-07]\n",
      " [9.9999990e-01 1.0000001e-07]\n",
      " [9.9999990e-01 1.0000001e-07]\n",
      " [9.9999990e-01 1.0000001e-07]\n",
      " [9.9999990e-01 1.0000001e-07]\n",
      " [9.9999990e-01 1.0000001e-07]\n",
      " [9.9999990e-01 1.0000001e-07]\n",
      " [9.9999990e-01 1.0000001e-07]\n",
      " [9.9999990e-01 1.0000001e-07]\n",
      " [9.9999990e-01 1.0000001e-07]\n",
      " [9.9999990e-01 1.0000001e-07]\n",
      " [9.9999990e-01 1.0000001e-07]\n",
      " [9.9999990e-01 1.0000001e-07]\n",
      " [9.9999990e-01 1.0000001e-07]\n",
      " [9.9999990e-01 1.0000001e-07]\n",
      " [9.9999990e-01 1.0000001e-07]\n",
      " [9.9999990e-01 1.0000001e-07]\n",
      " [9.9999990e-01 1.0000001e-07]\n",
      " [9.9999990e-01 1.0000001e-07]\n",
      " [9.9999990e-01 1.0000001e-07]\n",
      " [9.9999990e-01 1.0000001e-07]\n",
      " [9.9999990e-01 1.0000001e-07]\n",
      " [9.9999990e-01 1.0000001e-07]\n",
      " [9.9999990e-01 1.0000001e-07]\n",
      " [9.9999990e-01 1.0000001e-07]\n",
      " [9.9999990e-01 1.0000001e-07]\n",
      " [9.9999990e-01 1.0000001e-07]\n",
      " [9.9999990e-01 1.0000001e-07]\n",
      " [9.9999990e-01 1.0000001e-07]\n",
      " [9.9999990e-01 1.0000001e-07]\n",
      " [9.9999990e-01 1.0000001e-07]\n",
      " [9.9999990e-01 1.0000001e-07]\n",
      " [9.9999990e-01 1.0000001e-07]\n",
      " [9.9999990e-01 1.0000001e-07]\n",
      " [9.9999990e-01 1.0000001e-07]\n",
      " [9.9999990e-01 1.0000001e-07]\n",
      " [9.9999990e-01 1.0000001e-07]\n",
      " [9.9999990e-01 1.0000001e-07]\n",
      " [9.9999990e-01 1.0000001e-07]\n",
      " [9.9999990e-01 1.0000001e-07]\n",
      " [9.9999990e-01 1.0000001e-07]\n",
      " [9.9999990e-01 1.0000001e-07]\n",
      " [9.9999990e-01 1.0000001e-07]\n",
      " [9.9999990e-01 1.0000001e-07]\n",
      " [9.9999990e-01 1.0000001e-07]\n",
      " [9.9999990e-01 1.0000001e-07]\n",
      " [9.9999990e-01 1.0000001e-07]\n",
      " [9.9999990e-01 1.0000001e-07]\n",
      " [9.9999990e-01 1.0000001e-07]\n",
      " [9.9999990e-01 1.0000001e-07]\n",
      " [9.9999990e-01 1.0000001e-07]\n",
      " [9.9999990e-01 1.0000001e-07]\n",
      " [9.9999990e-01 1.0000001e-07]\n",
      " [9.9999990e-01 1.0000001e-07]\n",
      " [9.9999990e-01 1.0000001e-07]\n",
      " [9.9999990e-01 1.0000001e-07]\n",
      " [9.9999990e-01 1.0000001e-07]\n",
      " [9.9999990e-01 1.0000001e-07]\n",
      " [9.9999990e-01 1.0000001e-07]\n",
      " [9.9999990e-01 1.0000001e-07]\n",
      " [9.9999990e-01 1.0000001e-07]\n",
      " [9.9999990e-01 1.0000001e-07]\n",
      " [9.9999990e-01 1.0000001e-07]\n",
      " [9.9999990e-01 1.0000001e-07]\n",
      " [9.9999990e-01 1.0000001e-07]\n",
      " [9.9999990e-01 1.0000001e-07]\n",
      " [9.9999990e-01 1.0000001e-07]\n",
      " [9.9999990e-01 1.0000001e-07]\n",
      " [9.9999990e-01 1.0000001e-07]\n",
      " [9.9999990e-01 1.0000001e-07]\n",
      " [9.9999990e-01 1.0000001e-07]\n",
      " [9.9999990e-01 1.0000001e-07]\n",
      " [9.9999990e-01 1.0000001e-07]\n",
      " [9.9999990e-01 1.0000001e-07]\n",
      " [9.9999990e-01 1.0000001e-07]\n",
      " [9.9999990e-01 1.0000001e-07]\n",
      " [9.9999990e-01 1.0000001e-07]\n",
      " [9.9999990e-01 1.0000001e-07]\n",
      " [9.9999990e-01 1.0000001e-07]\n",
      " [9.9999990e-01 1.0000001e-07]\n",
      " [9.9999990e-01 1.0000001e-07]\n",
      " [9.9999990e-01 1.0000001e-07]\n",
      " [9.9999990e-01 1.0000001e-07]\n",
      " [9.9999990e-01 1.0000001e-07]\n",
      " [9.9999990e-01 1.0000001e-07]\n",
      " [9.9999990e-01 1.0000001e-07]\n",
      " [9.9999990e-01 1.0000001e-07]\n",
      " [9.9999990e-01 1.0000001e-07]\n",
      " [9.9999990e-01 1.0000001e-07]\n",
      " [9.9999990e-01 1.0000001e-07]\n",
      " [9.9999990e-01 1.0000001e-07]\n",
      " [9.9999990e-01 1.0000001e-07]\n",
      " [9.9999990e-01 1.0000001e-07]\n",
      " [9.9999990e-01 1.0000001e-07]\n",
      " [9.9999990e-01 1.0000001e-07]\n",
      " [9.9999990e-01 1.0000001e-07]\n",
      " [9.9999990e-01 1.0000001e-07]\n",
      " [9.9999990e-01 1.0000001e-07]\n",
      " [9.9999990e-01 1.0000001e-07]\n",
      " [9.9999990e-01 1.0000001e-07]\n",
      " [9.9999990e-01 1.0000001e-07]\n",
      " [9.9999990e-01 1.0000001e-07]\n",
      " [9.9999990e-01 1.0000001e-07]\n",
      " [9.9999990e-01 1.0000001e-07]\n",
      " [9.9999990e-01 1.0000001e-07]\n",
      " [9.9999990e-01 1.0000001e-07]\n",
      " [9.9999990e-01 1.0000001e-07]\n",
      " [9.9999990e-01 1.0000001e-07]\n",
      " [9.9999990e-01 1.0000001e-07]\n",
      " [9.9999990e-01 1.0000001e-07]\n",
      " [9.9999990e-01 1.0000001e-07]\n",
      " [9.9999990e-01 1.0000001e-07]\n",
      " [9.9999990e-01 1.0000001e-07]\n",
      " [9.9999990e-01 1.0000001e-07]\n",
      " [9.9999990e-01 1.0000001e-07]\n",
      " [9.9999990e-01 1.0000001e-07]\n",
      " [9.9999990e-01 1.0000001e-07]\n",
      " [9.9999990e-01 1.0000001e-07]\n",
      " [9.9999990e-01 1.0000001e-07]\n",
      " [9.9999990e-01 1.0000001e-07]\n",
      " [9.9999990e-01 1.0000001e-07]\n",
      " [9.9999990e-01 1.0000001e-07]\n",
      " [9.9999990e-01 1.0000001e-07]\n",
      " [9.9999990e-01 1.0000001e-07]\n",
      " [9.9999990e-01 1.0000001e-07]\n",
      " [9.9999990e-01 1.0000001e-07]\n",
      " [9.9999990e-01 1.0000001e-07]\n",
      " [9.9999990e-01 1.0000001e-07]\n",
      " [9.9999990e-01 1.0000001e-07]\n",
      " [9.9999990e-01 1.0000001e-07]\n",
      " [9.9999990e-01 1.0000001e-07]\n",
      " [9.9999990e-01 1.0000001e-07]\n",
      " [9.9999990e-01 1.0000001e-07]\n",
      " [9.9999990e-01 1.0000001e-07]\n",
      " [9.9999990e-01 1.0000001e-07]\n",
      " [9.9999990e-01 1.0000001e-07]\n",
      " [9.9999990e-01 1.0000001e-07]\n",
      " [9.9999990e-01 1.0000001e-07]\n",
      " [9.9999990e-01 1.0000001e-07]\n",
      " [9.9999990e-01 1.0000001e-07]\n",
      " [9.9999990e-01 1.0000001e-07]\n",
      " [9.9999990e-01 1.0000001e-07]\n",
      " [9.9999990e-01 1.0000001e-07]\n",
      " [9.9999990e-01 1.0000001e-07]\n",
      " [9.9999990e-01 1.0000001e-07]\n",
      " [9.9999990e-01 1.0000001e-07]\n",
      " [9.9999990e-01 1.0000001e-07]\n",
      " [9.9999990e-01 1.0000001e-07]\n",
      " [9.9999990e-01 1.0000001e-07]\n",
      " [9.9999990e-01 1.0000001e-07]\n",
      " [9.9999990e-01 1.0000001e-07]\n",
      " [9.9999990e-01 1.0000001e-07]\n",
      " [9.9999990e-01 1.0000001e-07]\n",
      " [9.9999990e-01 1.0000001e-07]\n",
      " [9.9999990e-01 1.0000001e-07]\n",
      " [9.9999990e-01 1.0000001e-07]\n",
      " [9.9999990e-01 1.0000001e-07]\n",
      " [9.9999990e-01 1.0000001e-07]\n",
      " [9.9999990e-01 1.0000001e-07]\n",
      " [9.9999990e-01 1.0000001e-07]\n",
      " [9.9999990e-01 1.0000001e-07]\n",
      " [9.9999990e-01 1.0000001e-07]\n",
      " [9.9999990e-01 1.0000001e-07]\n",
      " [9.9999990e-01 1.0000001e-07]\n",
      " [9.9999990e-01 1.0000001e-07]\n",
      " [9.9999990e-01 1.0000001e-07]\n",
      " [9.9999990e-01 1.0000001e-07]\n",
      " [9.9999990e-01 1.0000001e-07]\n",
      " [9.9999990e-01 1.0000001e-07]\n",
      " [9.9999990e-01 1.0000001e-07]\n",
      " [9.9999990e-01 1.0000001e-07]\n",
      " [9.9999990e-01 1.0000001e-07]\n",
      " [3.0000009e-14 1.0000000e+00]\n",
      " [9.9999990e-01 1.0000001e-07]\n",
      " [9.9999990e-01 1.0000001e-07]\n",
      " [9.9999990e-01 1.0000001e-07]]\n"
     ]
    }
   ],
   "source": [
    "print(svm_model.predict_proba(testing_attribute))"
   ]
  },
  {
   "cell_type": "markdown",
   "metadata": {},
   "source": [
    "### Confusion Matrix"
   ]
  },
  {
   "cell_type": "code",
   "execution_count": 37,
   "metadata": {},
   "outputs": [
    {
     "name": "stdout",
     "output_type": "stream",
     "text": [
      "     -1   1\n",
      "-1  120   0\n",
      " 1  131   1\n"
     ]
    }
   ],
   "source": [
    "from sklearn.metrics import confusion_matrix\n",
    "\n",
    "print(pd.DataFrame(confusion_matrix(testing_answer, svm_testing_predict),\n",
    "                   index=[-1, 1], columns=[-1, 1]))"
   ]
  },
  {
   "cell_type": "markdown",
   "metadata": {},
   "source": [
    "---"
   ]
  },
  {
   "cell_type": "markdown",
   "metadata": {},
   "source": [
    "## Neural Network"
   ]
  },
  {
   "cell_type": "markdown",
   "metadata": {},
   "source": [
    "The third model we will use is neural network."
   ]
  },
  {
   "cell_type": "markdown",
   "metadata": {},
   "source": [
    "### Preprocessing"
   ]
  },
  {
   "cell_type": "markdown",
   "metadata": {},
   "source": [
    "To ensure the model fit perfectly, let's preprocess the data first."
   ]
  },
  {
   "cell_type": "code",
   "execution_count": 38,
   "metadata": {},
   "outputs": [],
   "source": [
    "from sklearn import preprocessing\n",
    "\n",
    "nn_training_attribute = preprocessing.normalize(training_attribute)\n",
    "nn_testing_attribute = preprocessing.normalize(testing_attribute)"
   ]
  },
  {
   "cell_type": "markdown",
   "metadata": {},
   "source": [
    "### Activation Function"
   ]
  },
  {
   "cell_type": "markdown",
   "metadata": {},
   "source": [
    "Create the activation function to the network"
   ]
  },
  {
   "cell_type": "code",
   "execution_count": 39,
   "metadata": {},
   "outputs": [
    {
     "name": "stderr",
     "output_type": "stream",
     "text": [
      "Using TensorFlow backend.\n"
     ]
    },
    {
     "name": "stdout",
     "output_type": "stream",
     "text": [
      "WARNING:tensorflow:From c:\\users\\user\\appdata\\local\\programs\\python\\python37\\lib\\site-packages\\tensorflow\\python\\framework\\op_def_library.py:263: colocate_with (from tensorflow.python.framework.ops) is deprecated and will be removed in a future version.\n",
      "Instructions for updating:\n",
      "Colocations handled automatically by placer.\n"
     ]
    }
   ],
   "source": [
    "from keras import models, layers, optimizers, regularizers\n",
    "import tensorflow as tf\n",
    "\n",
    "neural_network_model = models.Sequential()\n",
    "neural_network_model.add(layers.Dense(input_dim=8,\n",
    "                                      units=8,\n",
    "                                      activation='relu'))\n",
    "neural_network_model.add(layers.Dense(input_dim=8,\n",
    "                                      units=1,\n",
    "                                      activation='sigmoid'))\n",
    "neural_network_model.compile(loss='binary_crossentropy',\n",
    "                             optimizer=optimizers.Adam(lr=0.1),\n",
    "                             metrics=['accuracy'])"
   ]
  },
  {
   "cell_type": "markdown",
   "metadata": {},
   "source": [
    "### Model Train"
   ]
  },
  {
   "cell_type": "markdown",
   "metadata": {},
   "source": [
    "The model is set. It's time to train the model. We will train this model once\n",
    "and see how thing go."
   ]
  },
  {
   "cell_type": "code",
   "execution_count": 40,
   "metadata": {},
   "outputs": [
    {
     "name": "stdout",
     "output_type": "stream",
     "text": [
      "WARNING:tensorflow:From c:\\users\\user\\appdata\\local\\programs\\python\\python37\\lib\\site-packages\\tensorflow\\python\\ops\\math_ops.py:3066: to_int32 (from tensorflow.python.ops.math_ops) is deprecated and will be removed in a future version.\n",
      "Instructions for updating:\n",
      "Use tf.cast instead.\n",
      "Epoch 1/8\n",
      "2264/2264 [==============================] - 0s 155us/step - loss: 0.6929 - acc: 0.5230\n",
      "Epoch 2/8\n",
      "2264/2264 [==============================] - 0s 38us/step - loss: 0.6900 - acc: 0.5389\n",
      "Epoch 3/8\n",
      "2264/2264 [==============================] - 0s 31us/step - loss: 0.6902 - acc: 0.5336\n",
      "Epoch 4/8\n",
      "2264/2264 [==============================] - 0s 34us/step - loss: 0.6918 - acc: 0.5468\n",
      "Epoch 5/8\n",
      "2264/2264 [==============================] - 0s 40us/step - loss: 0.6905 - acc: 0.5504\n",
      "Epoch 6/8\n",
      "2264/2264 [==============================] - 0s 46us/step - loss: 0.6907 - acc: 0.5459\n",
      "Epoch 7/8\n",
      "2264/2264 [==============================] - 0s 42us/step - loss: 0.6897 - acc: 0.5433\n",
      "Epoch 8/8\n",
      "2264/2264 [==============================] - 0s 42us/step - loss: 0.6906 - acc: 0.5371\n"
     ]
    }
   ],
   "source": [
    "history = neural_network_model.fit(nn_training_attribute,\n",
    "                                   training_answer,\n",
    "                                   epochs=8,\n",
    "                                   batch_size=32)"
   ]
  },
  {
   "cell_type": "markdown",
   "metadata": {},
   "source": [
    "### Loss function"
   ]
  },
  {
   "cell_type": "markdown",
   "metadata": {},
   "source": [
    "Below shows the loss function of this model"
   ]
  },
  {
   "cell_type": "code",
   "execution_count": 41,
   "metadata": {},
   "outputs": [
    {
     "data": {
      "image/png": "[encoded data removed]",
      "text/plain": [
       "<Figure size 432x288 with 1 Axes>"
      ]
     },
     "metadata": {
      "needs_background": "light"
     },
     "output_type": "display_data"
    }
   ],
   "source": [
    "from matplotlib import pyplot as plt\n",
    "\n",
    "losses = history.history['loss']\n",
    "plt.clf()\n",
    "plt.plot(range(len(losses)), losses)\n",
    "plt.title('Loss function')\n",
    "plt.show()"
   ]
  },
  {
   "cell_type": "markdown",
   "metadata": {},
   "source": [
    "### Accuracy"
   ]
  },
  {
   "cell_type": "code",
   "execution_count": 42,
   "metadata": {},
   "outputs": [
    {
     "name": "stdout",
     "output_type": "stream",
     "text": [
      "2264/2264 [==============================] - 0s 37us/step\n",
      "Accuracy of training predict: 0.5459363958650258\n"
     ]
    }
   ],
   "source": [
    "print('Accuracy of training predict: {}'.format(\n",
    "    neural_network_model.evaluate(nn_training_attribute, training_answer)[1]))"
   ]
  },
  {
   "cell_type": "code",
   "execution_count": 43,
   "metadata": {},
   "outputs": [
    {
     "name": "stdout",
     "output_type": "stream",
     "text": [
      "252/252 [==============================] - 0s 26us/step\n",
      "Accuracy of testing predict: 0.5238095242825765\n"
     ]
    }
   ],
   "source": [
    "print('Accuracy of testing predict: {}'.format(\n",
    "    neural_network_model.evaluate(testing_attribute, testing_answer)[1]))"
   ]
  },
  {
   "cell_type": "markdown",
   "metadata": {},
   "source": [
    "### Non-Determinacy"
   ]
  },
  {
   "cell_type": "markdown",
   "metadata": {},
   "source": [
    "We only train this model for once. The parameters in the network is randomly\n",
    "set.\n",
    "Now we will train this model for 30 times and see if we can find something\n",
    "useful."
   ]
  },
  {
   "cell_type": "code",
   "execution_count": 44,
   "metadata": {},
   "outputs": [],
   "source": [
    "def model_train_and_evaluate(model, x_train, y_train, x_test, y_test, times=30):\n",
    "    from tqdm import tqdm\n",
    "\n",
    "    training_accuracies = []\n",
    "    testing_accuracies = []\n",
    "\n",
    "    with tqdm(total=times) as progress_bar:\n",
    "        for _ in range(times):\n",
    "            model.fit(x_train,\n",
    "                                y_train,\n",
    "                                epochs=8,\n",
    "                                batch_size=32,\n",
    "                                verbose=0)\n",
    "            training_accuracies.append(model.evaluate(x_train,\n",
    "                                                      y_train,\n",
    "                                                      verbose=0)[1])\n",
    "            testing_accuracies.append(model.evaluate(x_test,\n",
    "                                                     y_test,\n",
    "                                                     verbose=0)[1])\n",
    "            progress_bar.update()\n",
    "\n",
    "    print('Accuracy of training predict: {}'.format(\n",
    "        np.average(training_accuracies)))\n",
    "    print('Accuracy of testing predict: {}'.format(\n",
    "        np.average(testing_accuracies)))\n",
    "\n",
    "    return training_accuracies, testing_accuracies"
   ]
  },
  {
   "cell_type": "code",
   "execution_count": 45,
   "metadata": {},
   "outputs": [
    {
     "name": "stderr",
     "output_type": "stream",
     "text": [
      "100%|████████████████████████████████████████████████████████████████████████████████████████████████████████████████████████| 30/30 [00:12<00:00,  2.45it/s]\n"
     ]
    },
    {
     "name": "stdout",
     "output_type": "stream",
     "text": [
      "Accuracy of training predict: 0.5367491167236131\n",
      "Accuracy of testing predict: 0.5190476197571982\n"
     ]
    }
   ],
   "source": [
    "training_accuracies, testing_accuracies = \\\n",
    "    model_train_and_evaluate(neural_network_model,\n",
    "                             nn_training_attribute,\n",
    "                             training_answer,\n",
    "                             testing_attribute,\n",
    "                             testing_answer)"
   ]
  },
  {
   "cell_type": "markdown",
   "metadata": {},
   "source": [
    "### Accuracies plot"
   ]
  },
  {
   "cell_type": "markdown",
   "metadata": {},
   "source": [
    "After the training process, we can check the accuracies now."
   ]
  },
  {
   "cell_type": "code",
   "execution_count": 46,
   "metadata": {},
   "outputs": [],
   "source": [
    "def violinplot(x_list, title_list):\n",
    "    plt.clf()\n",
    "    _, axes = plt.subplots(nrows=1, ncols=len(x_list), figsize=(12, 10))\n",
    "\n",
    "    for index, axis in enumerate(axes):\n",
    "        axis.violinplot(x_list[index])\n",
    "        axis.set_title(title_list[index])\n",
    "        axis.text(0.005, 0.005, 'Min: {:.4}'.format(np.min(x_list[index])),\n",
    "                  fontsize=12,\n",
    "                  transform=axis.transAxes)\n",
    "        axis.text(0.005, 0.025, 'Max: {:.4}'.format(np.max(x_list[index])),\n",
    "                  fontsize=12,\n",
    "                  transform=axis.transAxes)\n",
    "\n",
    "    plt.show()"
   ]
  },
  {
   "cell_type": "code",
   "execution_count": 47,
   "metadata": {},
   "outputs": [
    {
     "data": {
      "text/plain": [
       "<Figure size 432x288 with 0 Axes>"
      ]
     },
     "metadata": {},
     "output_type": "display_data"
    },
    {
     "data": {
      "image/png": "[encoded data removed]",
      "text/plain": [
       "<Figure size 864x720 with 2 Axes>"
      ]
     },
     "metadata": {
      "needs_background": "light"
     },
     "output_type": "display_data"
    }
   ],
   "source": [
    "violinplot([training_accuracies, testing_accuracies],\n",
    "           ['Accuracy of training predict', 'Accuracy of testing predict'])"
   ]
  },
  {
   "cell_type": "markdown",
   "metadata": {},
   "source": [
    "The accuracy is around 54%. We will try to beat this record."
   ]
  },
  {
   "cell_type": "markdown",
   "metadata": {},
   "source": [
    "### Beat the Baseline"
   ]
  },
  {
   "cell_type": "markdown",
   "metadata": {},
   "source": [
    "Now with the prediction recorded, it time to beat the base line."
   ]
  },
  {
   "cell_type": "markdown",
   "metadata": {},
   "source": [
    "Remodel the model\n",
    "\n",
    "* Add a new layer\n",
    "* Wider the existed layer\n",
    "* More epoches"
   ]
  },
  {
   "cell_type": "code",
   "execution_count": 48,
   "metadata": {},
   "outputs": [],
   "source": [
    "neural_network_model = models.Sequential()\n",
    "neural_network_model.add(layers.Dense(input_dim=8,\n",
    "                                      units=12,\n",
    "                                      activation='relu',\n",
    "                                      kernel_regularizer=regularizers.l2(0)))\n",
    "neural_network_model.add(layers.Dense(input_dim=16,\n",
    "                                      units=16,\n",
    "                                      activation='tanh',\n",
    "                                      kernel_regularizer=regularizers.l2(0)))\n",
    "neural_network_model.add(layers.Dense(input_dim=16,\n",
    "                                      units=1,\n",
    "                                      activation='sigmoid',\n",
    "                                      kernel_regularizer=regularizers.l2(0)))\n",
    "neural_network_model.compile(loss='binary_crossentropy',\n",
    "                             optimizer=optimizers.Adam(lr=0.1),\n",
    "                             metrics=['accuracy'])"
   ]
  },
  {
   "cell_type": "code",
   "execution_count": 49,
   "metadata": {},
   "outputs": [],
   "source": [
    "history = neural_network_model.fit(\n",
    "    nn_training_attribute,\n",
    "    training_answer,\n",
    "    epochs=50,\n",
    "    batch_size=32,\n",
    "    verbose=False)"
   ]
  },
  {
   "cell_type": "markdown",
   "metadata": {},
   "source": [
    "### Show the loss function"
   ]
  },
  {
   "cell_type": "code",
   "execution_count": 50,
   "metadata": {},
   "outputs": [
    {
     "data": {
      "image/png": "[encoded data removed]",
      "text/plain": [
       "<Figure size 432x288 with 1 Axes>"
      ]
     },
     "metadata": {
      "needs_background": "light"
     },
     "output_type": "display_data"
    }
   ],
   "source": [
    "losses = history.history['loss']\n",
    "plt.plot(range(len(losses)), losses, 'r')\n",
    "plt.show()"
   ]
  },
  {
   "cell_type": "markdown",
   "metadata": {},
   "source": [
    "### Accuracy"
   ]
  },
  {
   "cell_type": "code",
   "execution_count": 51,
   "metadata": {},
   "outputs": [
    {
     "name": "stdout",
     "output_type": "stream",
     "text": [
      "2264/2264 [==============================] - ETA:  - 0s 40us/step\n"
     ]
    }
   ],
   "source": [
    "nn_training_accuracy = \\\n",
    "    neural_network_model.evaluate(nn_training_attribute, training_answer)[1]"
   ]
  },
  {
   "cell_type": "code",
   "execution_count": 52,
   "metadata": {},
   "outputs": [
    {
     "name": "stdout",
     "output_type": "stream",
     "text": [
      "Accuracy of training predict: 0.5459363958650258\n"
     ]
    }
   ],
   "source": [
    "print('Accuracy of training predict: {}'.format(nn_training_accuracy))"
   ]
  },
  {
   "cell_type": "code",
   "execution_count": 53,
   "metadata": {},
   "outputs": [
    {
     "name": "stdout",
     "output_type": "stream",
     "text": [
      "252/252 [==============================] - ETA:  - 0s 46us/step\n"
     ]
    }
   ],
   "source": [
    "nn_testing_accuracy = \\\n",
    "    neural_network_model.evaluate(nn_testing_attribute, testing_answer)[1]"
   ]
  },
  {
   "cell_type": "code",
   "execution_count": 54,
   "metadata": {},
   "outputs": [
    {
     "name": "stdout",
     "output_type": "stream",
     "text": [
      "Accuracy of testing predict: 0.5238095242825765\n"
     ]
    }
   ],
   "source": [
    "print('Accuracy of testing predict: {}'.format(nn_testing_accuracy))"
   ]
  },
  {
   "cell_type": "markdown",
   "metadata": {},
   "source": [
    "---"
   ]
  },
  {
   "cell_type": "markdown",
   "metadata": {},
   "source": [
    "## Prediction Analysis"
   ]
  },
  {
   "cell_type": "code",
   "execution_count": 55,
   "metadata": {},
   "outputs": [
    {
     "name": "stdout",
     "output_type": "stream",
     "text": [
      "252/252 [==============================] - ETA:  - 0s 28us/step\n"
     ]
    },
    {
     "data": {
      "text/html": [
       "<div>\n",
       "<style scoped>\n",
       "    .dataframe tbody tr th:only-of-type {\n",
       "        vertical-align: middle;\n",
       "    }\n",
       "\n",
       "    .dataframe tbody tr th {\n",
       "        vertical-align: top;\n",
       "    }\n",
       "\n",
       "    .dataframe thead th {\n",
       "        text-align: right;\n",
       "    }\n",
       "</style>\n",
       "<table border=\"1\" class=\"dataframe\">\n",
       "  <thead>\n",
       "    <tr style=\"text-align: right;\">\n",
       "      <th></th>\n",
       "      <th>Accuracy</th>\n",
       "    </tr>\n",
       "  </thead>\n",
       "  <tbody>\n",
       "    <tr>\n",
       "      <th>Logistic Regression Model</th>\n",
       "      <td>1.000000</td>\n",
       "    </tr>\n",
       "    <tr>\n",
       "      <th>SVM Model</th>\n",
       "      <td>0.480159</td>\n",
       "    </tr>\n",
       "    <tr>\n",
       "      <th>Neural Network Model</th>\n",
       "      <td>0.523810</td>\n",
       "    </tr>\n",
       "  </tbody>\n",
       "</table>\n",
       "</div>"
      ],
      "text/plain": [
       "                           Accuracy\n",
       "Logistic Regression Model  1.000000\n",
       "SVM Model                  0.480159\n",
       "Neural Network Model       0.523810"
      ]
     },
     "execution_count": 55,
     "metadata": {},
     "output_type": "execute_result"
    }
   ],
   "source": [
    "accuracy = [logrec_model.score(testing_attribute, testing_answer),\n",
    "    svm_model.score(testing_attribute, testing_answer),\n",
    "    neural_network_model.evaluate(nn_testing_attribute, testing_answer)[1]]\n",
    "accuracy = pd.DataFrame(accuracy,\n",
    "    index=['Logistic Regression Model', 'SVM Model', 'Neural Network Model'],\n",
    "    columns=['Accuracy'])\n",
    "\n",
    "accuracy.head()"
   ]
  },
  {
   "cell_type": "markdown",
   "metadata": {},
   "source": [
    "Logistic Regression has the perfect accuracy among the rest models. Since\n",
    "logistic regression predict the sign of the gain and loss, it is suited for\n",
    "stock prediction."
   ]
  },
  {
   "cell_type": "markdown",
   "metadata": {},
   "source": [
    "In this homework. We show 3 models, their basic and prediction. It's best to\n",
    "know the dataset first, then choose the training model."
   ]
  }
 ],
 "metadata": {
  "file_extension": ".py",
  "kernelspec": {
   "display_name": "Python 3",
   "language": "python",
   "name": "python3"
  },
  "language_info": {
   "codemirror_mode": {
    "name": "ipython",
    "version": 3
   },
   "file_extension": ".py",
   "mimetype": "text/x-python",
   "name": "python",
   "nbconvert_exporter": "python",
   "pygments_lexer": "ipython3",
   "version": "3.7.2"
  },
  "mimetype": "text/x-python",
  "name": "python",
  "npconvert_exporter": "python",
  "pygments_lexer": "ipython3",
  "version": 3
 },
 "nbformat": 4,
 "nbformat_minor": 2
}
